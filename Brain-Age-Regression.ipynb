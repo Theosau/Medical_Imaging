{
 "cells": [
  {
   "cell_type": "markdown",
   "metadata": {},
   "source": [
    "# Coursework: Age regression from brain MRI"
   ]
  },
  {
   "cell_type": "markdown",
   "metadata": {},
   "source": [
    "Predicting the age of patient from a brain MRI scan can have diagnostic value for a number of diseases that may cause structural changes and potential damage to the brain. A discrepancy between the predicted age and the real, chronological age of a patient might indicate the presence of disease. This requires an accurate predictor of brain age which may be learned from a set of healthy reference subjects, given their brain MRI data and their actual age.\n",
    "\n",
    "The objective for the coursework is to implement different supervised learning approaches for age regression from brain MRI. We provided data from a total of 652 healthy subjects, that is split into different development sets and a held-out test set on which you will evaluate your final prediction accuracy.\n",
    "\n",
    "Each approach will require a processing pipeline with different components that you will need to implement using methods that were discussed in the lectures and tutorials. There are three dedicated parts in the Jupyter notebook for each approach which contain some detailed instructions and some helper code.\n",
    "\n",
    "You may find some useful ideas and implementations in the tutorial notebooks. Once you have implemented all approaches and obtained results from your experiments, we ask you to write a short summary report. The reports should contain a short introduction, description of each of your methods and the individual processing steps, your results with a brief discussion. The report should also include some figures and plots to support your findings.\n",
    "\n",
    "#### Read the text descriptions and the provided code cells carefully and look out for the cells marked with 'TASK' and 'ADD YOUR CODE HERE'."
   ]
  },
  {
   "cell_type": "markdown",
   "metadata": {},
   "source": [
    "### Getting started and familiarise ourselves with the data\n",
    "\n",
    "The following cells provide some helper functions to load the data, and provide some overview and visualisation of the statistics over the total population of 652 subjects. The data will be split into different subsets to be used for different parts of the coursework. There is a set of 52 subjects to be used in part A to develop an image segmentation method (47 for training, 5 for validation). We then use 500 subjects for training and cross-validation of age regression approaches in part A, B and C. A remaining set of 100 subjects is used to test the final age prediction accuracy and will be made available towards the end of the coursework."
   ]
  },
  {
   "cell_type": "markdown",
   "metadata": {},
   "source": [
    "### Running on Colab or Azure"
   ]
  },
  {
   "cell_type": "code",
   "execution_count": 15,
   "metadata": {},
   "outputs": [
    {
     "name": "stdout",
     "output_type": "stream",
     "text": [
      "Requirement already satisfied: SimpleITK==1.2.2 in /data/anaconda/envs/mli/lib/python3.6/site-packages (1.2.2)\r\n"
     ]
    }
   ],
   "source": [
    "! pip install SimpleITK==1.2.2 \n",
    "# ! wget https://www.doc.ic.ac.uk/~bglocker/teaching/notebooks/brainage-data.zip\n",
    "# ! unzip brainage-data.zip\n",
    "\n",
    "# # data directory\n",
    "data_dir = '../data/brain_age/'"
   ]
  },
  {
   "cell_type": "markdown",
   "metadata": {},
   "source": [
    "### Running on DoC lab machines"
   ]
  },
  {
   "cell_type": "code",
   "execution_count": 16,
   "metadata": {},
   "outputs": [],
   "source": [
    "# data directory\n",
    "# data_dir = '/vol/lab/course/416/data/brain_age/'"
   ]
  },
  {
   "cell_type": "markdown",
   "metadata": {},
   "source": [
    "Let's start by loading the meta data of the entire population, that is the data containing information about the subject IDs, their age, and gender."
   ]
  },
  {
   "cell_type": "code",
   "execution_count": 17,
   "metadata": {},
   "outputs": [
    {
     "data": {
      "text/html": [
       "<div>\n",
       "<style scoped>\n",
       "    .dataframe tbody tr th:only-of-type {\n",
       "        vertical-align: middle;\n",
       "    }\n",
       "\n",
       "    .dataframe tbody tr th {\n",
       "        vertical-align: top;\n",
       "    }\n",
       "\n",
       "    .dataframe thead th {\n",
       "        text-align: right;\n",
       "    }\n",
       "</style>\n",
       "<table border=\"1\" class=\"dataframe\">\n",
       "  <thead>\n",
       "    <tr style=\"text-align: right;\">\n",
       "      <th></th>\n",
       "      <th>subject_id</th>\n",
       "      <th>age</th>\n",
       "      <th>gender_code</th>\n",
       "      <th>gender_text</th>\n",
       "    </tr>\n",
       "  </thead>\n",
       "  <tbody>\n",
       "    <tr>\n",
       "      <th>0</th>\n",
       "      <td>CC110033</td>\n",
       "      <td>24</td>\n",
       "      <td>1</td>\n",
       "      <td>MALE</td>\n",
       "    </tr>\n",
       "    <tr>\n",
       "      <th>1</th>\n",
       "      <td>CC110037</td>\n",
       "      <td>18</td>\n",
       "      <td>1</td>\n",
       "      <td>MALE</td>\n",
       "    </tr>\n",
       "    <tr>\n",
       "      <th>2</th>\n",
       "      <td>CC110045</td>\n",
       "      <td>24</td>\n",
       "      <td>2</td>\n",
       "      <td>FEMALE</td>\n",
       "    </tr>\n",
       "    <tr>\n",
       "      <th>3</th>\n",
       "      <td>CC110056</td>\n",
       "      <td>22</td>\n",
       "      <td>2</td>\n",
       "      <td>FEMALE</td>\n",
       "    </tr>\n",
       "    <tr>\n",
       "      <th>4</th>\n",
       "      <td>CC110062</td>\n",
       "      <td>20</td>\n",
       "      <td>1</td>\n",
       "      <td>MALE</td>\n",
       "    </tr>\n",
       "  </tbody>\n",
       "</table>\n",
       "</div>"
      ],
      "text/plain": [
       "  subject_id  age  gender_code gender_text\n",
       "0   CC110033   24            1        MALE\n",
       "1   CC110037   18            1        MALE\n",
       "2   CC110045   24            2      FEMALE\n",
       "3   CC110056   22            2      FEMALE\n",
       "4   CC110062   20            1        MALE"
      ]
     },
     "execution_count": 17,
     "metadata": {},
     "output_type": "execute_result"
    }
   ],
   "source": [
    "# Read the meta data using pandas\n",
    "import pandas as pd\n",
    "\n",
    "meta_data_all = pd.read_csv(data_dir + 'meta/meta_data_all.csv')\n",
    "meta_data_all.head() # show the first five data entries"
   ]
  },
  {
   "cell_type": "code",
   "execution_count": 18,
   "metadata": {},
   "outputs": [
    {
     "data": {
      "text/html": [
       "<div>\n",
       "<style scoped>\n",
       "    .dataframe tbody tr th:only-of-type {\n",
       "        vertical-align: middle;\n",
       "    }\n",
       "\n",
       "    .dataframe tbody tr th {\n",
       "        vertical-align: top;\n",
       "    }\n",
       "\n",
       "    .dataframe thead th {\n",
       "        text-align: right;\n",
       "    }\n",
       "</style>\n",
       "<table border=\"1\" class=\"dataframe\">\n",
       "  <thead>\n",
       "    <tr style=\"text-align: right;\">\n",
       "      <th></th>\n",
       "      <th>Unnamed: 0</th>\n",
       "      <th>subject_id</th>\n",
       "      <th>age</th>\n",
       "      <th>gender_code</th>\n",
       "      <th>gender_text</th>\n",
       "    </tr>\n",
       "  </thead>\n",
       "  <tbody>\n",
       "    <tr>\n",
       "      <th>0</th>\n",
       "      <td>262</td>\n",
       "      <td>CC321594</td>\n",
       "      <td>43</td>\n",
       "      <td>1</td>\n",
       "      <td>MALE</td>\n",
       "    </tr>\n",
       "    <tr>\n",
       "      <th>1</th>\n",
       "      <td>41</td>\n",
       "      <td>CC120640</td>\n",
       "      <td>26</td>\n",
       "      <td>2</td>\n",
       "      <td>FEMALE</td>\n",
       "    </tr>\n",
       "    <tr>\n",
       "      <th>2</th>\n",
       "      <td>647</td>\n",
       "      <td>CC722542</td>\n",
       "      <td>79</td>\n",
       "      <td>1</td>\n",
       "      <td>MALE</td>\n",
       "    </tr>\n",
       "    <tr>\n",
       "      <th>3</th>\n",
       "      <td>479</td>\n",
       "      <td>CC610227</td>\n",
       "      <td>76</td>\n",
       "      <td>2</td>\n",
       "      <td>FEMALE</td>\n",
       "    </tr>\n",
       "    <tr>\n",
       "      <th>4</th>\n",
       "      <td>185</td>\n",
       "      <td>CC310463</td>\n",
       "      <td>45</td>\n",
       "      <td>2</td>\n",
       "      <td>FEMALE</td>\n",
       "    </tr>\n",
       "  </tbody>\n",
       "</table>\n",
       "</div>"
      ],
      "text/plain": [
       "   Unnamed: 0 subject_id  age  gender_code gender_text\n",
       "0         262   CC321594   43            1        MALE\n",
       "1          41   CC120640   26            2      FEMALE\n",
       "2         647   CC722542   79            1        MALE\n",
       "3         479   CC610227   76            2      FEMALE\n",
       "4         185   CC310463   45            2      FEMALE"
      ]
     },
     "execution_count": 18,
     "metadata": {},
     "output_type": "execute_result"
    }
   ],
   "source": [
    "meta_data_test = pd.read_csv(data_dir + 'meta/meta_data_reg_test.csv')\n",
    "meta_data_test.head()"
   ]
  },
  {
   "cell_type": "markdown",
   "metadata": {},
   "source": [
    "Let's have a look at some population statistics."
   ]
  },
  {
   "cell_type": "code",
   "execution_count": 19,
   "metadata": {
    "scrolled": false
   },
   "outputs": [
    {
     "data": {
      "image/png": "[encoded data removed]",
      "text/plain": [
       "<Figure size 360x360 with 1 Axes>"
      ]
     },
     "metadata": {
      "needs_background": "light"
     },
     "output_type": "display_data"
    },
    {
     "data": {
      "image/png": "[encoded data removed]",
      "text/plain": [
       "<Figure size 432x288 with 1 Axes>"
      ]
     },
     "metadata": {
      "needs_background": "light"
     },
     "output_type": "display_data"
    },
    {
     "data": {
      "image/png": "[encoded data removed]",
      "text/plain": [
       "<Figure size 432x288 with 1 Axes>"
      ]
     },
     "metadata": {
      "needs_background": "light"
     },
     "output_type": "display_data"
    }
   ],
   "source": [
    "%matplotlib inline\n",
    "\n",
    "import matplotlib.pyplot as plt\n",
    "import seaborn as sns\n",
    "\n",
    "meta_data = meta_data_all\n",
    "\n",
    "sns.catplot(x=\"gender_text\", data=meta_data, kind=\"count\")\n",
    "plt.title('Gender distribution')\n",
    "plt.xlabel('Gender')\n",
    "plt.show()\n",
    "\n",
    "sns.distplot(meta_data['age'], bins=[10,20,30,40,50,60,70,80,90])\n",
    "plt.title('Age distribution')\n",
    "plt.xlabel('Age')\n",
    "plt.show()\n",
    "\n",
    "plt.scatter(range(len(meta_data['age'])),meta_data['age'], marker='.')\n",
    "plt.grid()\n",
    "plt.xlabel('Subject')\n",
    "plt.ylabel('Age')\n",
    "plt.show()"
   ]
  },
  {
   "cell_type": "markdown",
   "metadata": {},
   "source": [
    "### Set up a simple medical image viewer and import SimpleITK"
   ]
  },
  {
   "cell_type": "code",
   "execution_count": 20,
   "metadata": {},
   "outputs": [],
   "source": [
    "import numpy as np\n",
    "import SimpleITK as sitk\n",
    "import matplotlib.pyplot as plt\n",
    "\n",
    "from ipywidgets import interact, fixed\n",
    "from IPython.display import display\n",
    "\n",
    "# Calculate parameters low and high from window and level\n",
    "def wl_to_lh(window, level):\n",
    "    low = level - window/2\n",
    "    high = level + window/2\n",
    "    return low,high\n",
    "\n",
    "def display_image(img, x=None, y=None, z=None, window=None, level=None, colormap='gray', crosshair=False):\n",
    "    # Convert SimpleITK image to NumPy array\n",
    "    img_array = sitk.GetArrayFromImage(img)\n",
    "    \n",
    "    # Get image dimensions in millimetres\n",
    "    size = img.GetSize()\n",
    "    spacing = img.GetSpacing()\n",
    "    width  = size[0] * spacing[0]\n",
    "    height = size[1] * spacing[1]\n",
    "    depth  = size[2] * spacing[2]\n",
    "    \n",
    "    if x is None:\n",
    "        x = np.floor(size[0]/2).astype(int)\n",
    "    if y is None:\n",
    "        y = np.floor(size[1]/2).astype(int)\n",
    "    if z is None:\n",
    "        z = np.floor(size[2]/2).astype(int)\n",
    "    \n",
    "    if window is None:\n",
    "        window = np.max(img_array) - np.min(img_array)\n",
    "    \n",
    "    if level is None:\n",
    "        level = window / 2 + np.min(img_array)\n",
    "    \n",
    "    low,high = wl_to_lh(window,level)\n",
    "\n",
    "    # Display the orthogonal slices\n",
    "    fig, (ax1, ax2, ax3) = plt.subplots(1, 3, figsize=(10, 4))\n",
    "\n",
    "    ax1.imshow(img_array[z,:,:], cmap=colormap, clim=(low, high), extent=(0, width, height, 0))\n",
    "    ax2.imshow(img_array[:,y,:], origin='lower', cmap=colormap, clim=(low, high), extent=(0, width,  0, depth))\n",
    "    ax3.imshow(img_array[:,:,x], origin='lower', cmap=colormap, clim=(low, high), extent=(0, height, 0, depth))\n",
    "\n",
    "    # Additionally display crosshairs\n",
    "    if crosshair:\n",
    "        ax1.axhline(y * spacing[1], lw=1)\n",
    "        ax1.axvline(x * spacing[0], lw=1)\n",
    "        ax2.axhline(z * spacing[2], lw=1)\n",
    "        ax2.axvline(x * spacing[0], lw=1)\n",
    "        ax3.axhline(z * spacing[2], lw=1)\n",
    "        ax3.axvline(y * spacing[1], lw=1)\n",
    "\n",
    "    plt.show()\n",
    "    \n",
    "def interactive_view(img):\n",
    "    size = img.GetSize() \n",
    "    img_array = sitk.GetArrayFromImage(img)\n",
    "    interact(display_image,img=fixed(img),\n",
    "             x=(0, size[0] - 1),\n",
    "             y=(0, size[1] - 1),\n",
    "             z=(0, size[2] - 1),\n",
    "             window=(0,np.max(img_array) - np.min(img_array)),\n",
    "             level=(np.min(img_array),np.max(img_array)));"
   ]
  },
  {
   "cell_type": "markdown",
   "metadata": {},
   "source": [
    "### Imaging data\n",
    "\n",
    "Let's check out the imaging data that is available for each subject. This cell also shows how to retrieve data given a particular subject ID from the meta data."
   ]
  },
  {
   "cell_type": "code",
   "execution_count": 21,
   "metadata": {},
   "outputs": [
    {
     "name": "stdout",
     "output_type": "stream",
     "text": [
      "(98, 116, 94)\n",
      "(98, 116, 94)\n",
      "(90, 108, 90)\n",
      "Imaging data of subject CC110033 with age 24\n",
      "\n",
      "MR Image (used in part A)\n"
     ]
    },
    {
     "data": {
      "image/png": "[encoded data removed]",
      "text/plain": [
       "<Figure size 720x288 with 3 Axes>"
      ]
     },
     "metadata": {
      "needs_background": "light"
     },
     "output_type": "display_data"
    },
    {
     "name": "stdout",
     "output_type": "stream",
     "text": [
      "Brain mask (used in part A)\n"
     ]
    },
    {
     "data": {
      "image/png": "[encoded data removed]",
      "text/plain": [
       "<Figure size 720x288 with 3 Axes>"
      ]
     },
     "metadata": {
      "needs_background": "light"
     },
     "output_type": "display_data"
    },
    {
     "name": "stdout",
     "output_type": "stream",
     "text": [
      "Spatially normalised grey matter maps (used in part B and C)\n"
     ]
    },
    {
     "data": {
      "image/png": "[encoded data removed]",
      "text/plain": [
       "<Figure size 720x288 with 3 Axes>"
      ]
     },
     "metadata": {
      "needs_background": "light"
     },
     "output_type": "display_data"
    }
   ],
   "source": [
    "# Subject with index 0\n",
    "ID = meta_data['subject_id'][0]\n",
    "age = meta_data['age'][0]\n",
    "\n",
    "# Image\n",
    "image_filename = data_dir + 'images/sub-' + ID + '_T1w_unbiased.nii.gz'\n",
    "img = sitk.ReadImage(image_filename)\n",
    "print(img.GetSize())\n",
    "# Mask\n",
    "mask_filename = data_dir + 'masks/sub-' + ID + '_T1w_brain_mask.nii.gz'\n",
    "msk = sitk.ReadImage(mask_filename)\n",
    "print(msk.GetSize())\n",
    "# Grey matter map\n",
    "gm_filename = data_dir + 'greymatter/wc1sub-' + ID + '_T1w.nii.gz'\n",
    "gm = sitk.ReadImage(gm_filename)\n",
    "print(gm.GetSize())\n",
    "print('Imaging data of subject ' + ID + ' with age ' + str(age))\n",
    "\n",
    "print('\\nMR Image (used in part A)')\n",
    "display_image(img, window=400, level=200)\n",
    "\n",
    "print('Brain mask (used in part A)')\n",
    "display_image(msk)\n",
    "\n",
    "print('Spatially normalised grey matter maps (used in part B and C)')\n",
    "display_image(gm)"
   ]
  },
  {
   "cell_type": "markdown",
   "metadata": {},
   "source": [
    "## Part A: Volume-based regression using brain structure segmentation\n",
    "\n",
    "The first approach aims to regress the age of a subject using the volumes of brain tissues as features. The brain structures include grey matter (GM), white matter (WM), and cerebrospinal fluid (CSF). It is known that with increasing age the ventricles enlarge (filled with CSF), while it is assumed that grey and white matter volume may decrease over time. However, as overall brain volume varies across individuals, taking the absolute volumes of tissues might not be predictive. Instead, relative volumes need to be computed as the ratios between each tissue volume and overall brain volume. To this end, a four-class (GM, WM, CSF, and background) brain segmentation needs to be implemented which will be trained using a total of 52 subjects (47 for training, 5 for validation). The segmentation method is then applied to the remaining 600 brain scans which will be used to train and test the age regression. Brain masks are provided which have been generated with a state-of-the-art neuroimaging brain extraction tool.\n",
    "\n",
    "Different regression techniques should be explored, and it might be beneficial to investigate what the best set of features is for this task. Are all volume features equally useful, or is it even better to combine some of them and create new features. How does a simple linear regression perform compared to a model with higher order polynomials? Do you need regularisation? How about other regression methods such as regression trees, SVMs or neural networks? The accuracy of different methods should be evaluated using two-fold cross-validation on the set of 500 subjects, and average age prediction accuracy should be compared and reported appropriately. The final prediction accuracy will be evaluated on a hold-out set of 100 subjects.\n",
    "\n",
    "*Note:* For part A, only the MR images and the brain masks should be used from the imaging data. The spatially normalised grey matter maps are used in part B and C only. If you struggle with task A-1, you can continue with A-2 using the provided reference segmentations in subfolder `segs_refs`."
   ]
  },
  {
   "cell_type": "markdown",
   "metadata": {},
   "source": [
    "### TASK A-1: Brain tissue segmentation\n",
    "\n",
    "Implement a CNN model for brain tissue segmentation which can provide segmentations of GM, WM, and CSF. For this task (and only for this task), we provide a subset of 52 subjects which are split into 47 images for training and 5 for validation. The template code below has the data handling and main training routines already implemented, so you can focus on implementing a suitable CNN model. A simple model is provided, but this won't perform very well.\n",
    "\n",
    "Once your model is trained and you are happy with the results on the validation data you should apply it to the 500 subjects later used for training the age regressor. We provide reference segmentations in a subfolder `segs_refs` for all subjects. Calculate Dice similarity coefficients per tissue when comparing your predicted segmentations to the reference segmentations. Summarise the statistics of the 500 Dice scores for each tissue class in [box-and-whisker-plots](https://matplotlib.org/api/_as_gen/matplotlib.pyplot.boxplot.html).\n",
    "\n",
    "*Note:* Implementing a full-fledged machine learning pipeline with training and testing procedures in Jupyter notebooks is a bit cumbersome and a pain to debug. Also, running bigger training tasks can be unstable. The code below should work as is on your VM. However, if you want to get a bit more serious about implementing an advanced CNN approach for image segmentation, you may want to move code into separate Python scripts and run these from the terminal."
   ]
  },
  {
   "cell_type": "markdown",
   "metadata": {},
   "source": [
    "#### Imports"
   ]
  },
  {
   "cell_type": "code",
   "execution_count": 22,
   "metadata": {},
   "outputs": [],
   "source": [
    "import os\n",
    "import torch\n",
    "import torch.nn as nn\n",
    "import torch.nn.functional as F\n",
    "from torch.utils.data import Dataset, DataLoader\n",
    "from tqdm import tqdm"
   ]
  },
  {
   "cell_type": "markdown",
   "metadata": {},
   "source": [
    "#### Data Helpers"
   ]
  },
  {
   "cell_type": "code",
   "execution_count": 23,
   "metadata": {},
   "outputs": [],
   "source": [
    "def zero_mean_unit_var(image, mask):\n",
    "    \"\"\"Normalizes an image to zero mean and unit variance.\"\"\"\n",
    "\n",
    "    img_array = sitk.GetArrayFromImage(image)\n",
    "    img_array = img_array.astype(np.float32)\n",
    "\n",
    "    msk_array = sitk.GetArrayFromImage(mask)\n",
    "\n",
    "    mean = np.mean(img_array[msk_array>0])\n",
    "    std = np.std(img_array[msk_array>0])\n",
    "\n",
    "    if std > 0:\n",
    "        img_array = (img_array - mean) / std\n",
    "        img_array[msk_array==0] = 0\n",
    "\n",
    "    image_normalised = sitk.GetImageFromArray(img_array)\n",
    "    image_normalised.CopyInformation(image)\n",
    "\n",
    "    return image_normalised\n",
    "\n",
    "\n",
    "def resample_image(image, out_spacing=(1.0, 1.0, 1.0), out_size=None, is_label=False, pad_value=0):\n",
    "    \"\"\"Resamples an image to given element spacing and output size.\"\"\"\n",
    "\n",
    "    original_spacing = np.array(image.GetSpacing())\n",
    "    original_size = np.array(image.GetSize())\n",
    "\n",
    "    if out_size is None:\n",
    "        out_size = np.round(np.array(original_size * original_spacing / np.array(out_spacing))).astype(int)\n",
    "    else:\n",
    "        out_size = np.array(out_size)\n",
    "\n",
    "    original_direction = np.array(image.GetDirection()).reshape(len(original_spacing),-1)\n",
    "    original_center = (np.array(original_size, dtype=float) - 1.0) / 2.0 * original_spacing\n",
    "    out_center = (np.array(out_size, dtype=float) - 1.0) / 2.0 * np.array(out_spacing)\n",
    "\n",
    "    original_center = np.matmul(original_direction, original_center)\n",
    "    out_center = np.matmul(original_direction, out_center)\n",
    "    out_origin = np.array(image.GetOrigin()) + (original_center - out_center)\n",
    "\n",
    "    resample = sitk.ResampleImageFilter()\n",
    "    resample.SetOutputSpacing(out_spacing)\n",
    "    resample.SetSize(out_size.tolist())\n",
    "    resample.SetOutputDirection(image.GetDirection())\n",
    "    resample.SetOutputOrigin(out_origin.tolist())\n",
    "    resample.SetTransform(sitk.Transform())\n",
    "    resample.SetDefaultPixelValue(pad_value)\n",
    "\n",
    "    if is_label:\n",
    "        resample.SetInterpolator(sitk.sitkNearestNeighbor)\n",
    "    else:\n",
    "        resample.SetInterpolator(sitk.sitkBSpline)\n",
    "\n",
    "    return resample.Execute(image)\n",
    "\n",
    "\n",
    "class ImageSegmentationDataset(Dataset):\n",
    "    \"\"\"Dataset for image segmentation.\"\"\"\n",
    "\n",
    "    def __init__(self, file_list_img, file_list_seg, file_list_msk, img_spacing, img_size):\n",
    "        self.samples = []\n",
    "        self.img_names = []\n",
    "        self.seg_names = []\n",
    "        for idx, _ in enumerate(tqdm(range(len(file_list_img)), desc='Loading Data')):\n",
    "            img_path = file_list_img[idx]\n",
    "            seg_path = file_list_seg[idx]\n",
    "            msk_path = file_list_msk[idx]\n",
    "\n",
    "            img = sitk.ReadImage(img_path, sitk.sitkFloat32)\n",
    "\n",
    "            seg = sitk.ReadImage(seg_path, sitk.sitkInt64)\n",
    "\n",
    "            msk = sitk.ReadImage(msk_path, sitk.sitkUInt8)\n",
    "\n",
    "            #pre=processing\n",
    "            img = zero_mean_unit_var(img, msk)\n",
    "            img = resample_image(img, img_spacing, img_size, is_label=False)\n",
    "            seg = resample_image(seg, img_spacing, img_size, is_label=True)\n",
    "            msk = resample_image(msk, img_spacing, img_size, is_label=True)\n",
    "\n",
    "            sample = {'img': img, 'seg': seg, 'msk': msk}\n",
    "\n",
    "            self.samples.append(sample)\n",
    "            self.img_names.append(os.path.basename(img_path))\n",
    "            self.seg_names.append(os.path.basename(seg_path))\n",
    "\n",
    "    def __len__(self):\n",
    "        return len(self.samples)\n",
    "\n",
    "    def __getitem__(self, item):\n",
    "        sample = self.samples[item]\n",
    "\n",
    "        image = torch.from_numpy(sitk.GetArrayFromImage(sample['img'])).unsqueeze(0)\n",
    "        seg = torch.from_numpy(sitk.GetArrayFromImage(sample['seg'])).unsqueeze(0)\n",
    "        msk = torch.from_numpy(sitk.GetArrayFromImage(sample['msk'])).unsqueeze(0)\n",
    "\n",
    "        return {'img': image, 'seg': seg, 'msk': msk}\n",
    "\n",
    "    def get_sample(self, item):\n",
    "        return self.samples[item]\n",
    "\n",
    "    def get_img_name(self, item):\n",
    "        return self.img_names[item]\n",
    "\n",
    "    def get_seg_name(self, item):\n",
    "        return self.seg_names[item]\n"
   ]
  },
  {
   "cell_type": "markdown",
   "metadata": {},
   "source": [
    "#### Check that the GPU is up and running"
   ]
  },
  {
   "cell_type": "code",
   "execution_count": 24,
   "metadata": {},
   "outputs": [
    {
     "name": "stdout",
     "output_type": "stream",
     "text": [
      "Device: cuda:0\n",
      "GPU: Tesla K80\n"
     ]
    }
   ],
   "source": [
    "cuda_dev = '0' #GPU device 0 (can be changed if multiple GPUs are available)\n",
    "\n",
    "use_cuda = torch.cuda.is_available()\n",
    "device = torch.device(\"cuda:\" + cuda_dev if use_cuda else \"cpu\")\n",
    "\n",
    "print('Device: ' + str(device))\n",
    "if use_cuda:\n",
    "    print('GPU: ' + str(torch.cuda.get_device_name(int(cuda_dev))))        "
   ]
  },
  {
   "cell_type": "markdown",
   "metadata": {},
   "source": [
    "#### Config and hyper-parameters\n",
    "\n",
    "Here we set some default hyper-parameters and a starting configuration for the image resolution and others.\n",
    "\n",
    "**TASK: This needs to be revisited to optimise these values. In particular, you may want to run your final model on higher resolution images.**"
   ]
  },
  {
   "cell_type": "code",
   "execution_count": 25,
   "metadata": {},
   "outputs": [],
   "source": [
    "rnd_seed = 42 #fixed random seed\n",
    "\n",
    "img_size = [76, 98, 88]\n",
    "img_spacing = [2, 2, 2]\n",
    "\n",
    "num_epochs = 100\n",
    "num_save_epochs = 20\n",
    "\n",
    "learning_rate = 5e-4\n",
    "batch_size = 2\n",
    "val_interval = 10 # Validation Interval\n",
    "\n",
    "num_classes = 4\n",
    "\n",
    "out_dir = './output'\n",
    "\n",
    "# Create output directory\n",
    "if not os.path.exists(out_dir):\n",
    "    os.makedirs(out_dir)\n",
    "    "
   ]
  },
  {
   "cell_type": "markdown",
   "metadata": {},
   "source": [
    "#### Loading and pre-processing of training and validation data"
   ]
  },
  {
   "cell_type": "code",
   "execution_count": 26,
   "metadata": {},
   "outputs": [],
   "source": [
    "meta_data_seg_train = pd.read_csv(data_dir + 'meta/meta_data_seg_train.csv')\n",
    "ids_seg_train = list(meta_data_seg_train['subject_id'])\n",
    "files_seg_img_train = [data_dir + 'images/sub-' + f + '_T1w_unbiased.nii.gz' for f in ids_seg_train]\n",
    "files_seg_seg_train = [data_dir + 'segs_refs/sub-' + f + '_T1w_seg.nii.gz' for f in ids_seg_train]\n",
    "files_seg_msk_train = [data_dir + 'masks/sub-' + f + '_T1w_brain_mask.nii.gz' for f in ids_seg_train]\n",
    "\n",
    "meta_data_seg_val = pd.read_csv(data_dir + 'meta/meta_data_seg_val.csv')\n",
    "ids_seg_val = list(meta_data_seg_val['subject_id'])\n",
    "files_seg_img_val = [data_dir + 'images/sub-' + f + '_T1w_unbiased.nii.gz' for f in ids_seg_val]\n",
    "files_seg_seg_val = [data_dir + 'segs_refs/sub-' + f + '_T1w_seg.nii.gz' for f in ids_seg_val]\n",
    "files_seg_msk_val = [data_dir + 'masks/sub-' + f + '_T1w_brain_mask.nii.gz' for f in ids_seg_val]"
   ]
  },
  {
   "cell_type": "code",
   "execution_count": 27,
   "metadata": {},
   "outputs": [],
   "source": [
    "meta_data_seg_test = meta_data_test\n",
    "ids_seg_test = list(meta_data_seg_test['subject_id'])\n",
    "files_seg_img_test = [data_dir + 'images/sub-' + f + '_T1w_unbiased.nii.gz' for f in ids_seg_test]\n",
    "files_seg_seg_test = [data_dir + 'segs_refs/sub-' + f + '_T1w_seg.nii.gz' for f in ids_seg_test]\n",
    "files_seg_msk_test = [data_dir + 'masks/sub-' + f + '_T1w_brain_mask.nii.gz' for f in ids_seg_test]"
   ]
  },
  {
   "cell_type": "markdown",
   "metadata": {},
   "source": [
    "We apply some standard pre-processing on the data such as intensity normalization (zero mean unit variance) and downsampling according to the configuration above.\n",
    "\n",
    "**You may want to use initially the validation data with 5 subjects for training which is more efficient when debugging your training routine and model implementation. Make sure to later train your final model on the actual training data.**"
   ]
  },
  {
   "cell_type": "code",
   "execution_count": 28,
   "metadata": {},
   "outputs": [
    {
     "name": "stderr",
     "output_type": "stream",
     "text": [
      "Loading Data: 100%|██████████| 47/47 [00:09<00:00,  5.01it/s]\n",
      "Loading Data: 100%|██████████| 5/5 [00:00<00:00,  5.09it/s]\n",
      "Loading Data: 100%|██████████| 100/100 [00:19<00:00,  5.07it/s]\n"
     ]
    }
   ],
   "source": [
    "# LOAD ACTUAL TRAINING DATA\n",
    "#dataset_train = ImageSegmentationDataset(files_seg_img_train, files_seg_seg_train, files_seg_msk_train, img_spacing, img_size)\n",
    "# LOAD VALIDATION DATA AS TRAINING FOR QUICK DEBUGGING\n",
    "dataset_train = ImageSegmentationDataset(files_seg_img_train, files_seg_seg_train, files_seg_msk_train, img_spacing, img_size)\n",
    "dataloader_train = torch.utils.data.DataLoader(dataset_train, batch_size=batch_size, shuffle=True)\n",
    "\n",
    "dataset_val = ImageSegmentationDataset(files_seg_img_val, files_seg_seg_val, files_seg_msk_val, img_spacing, img_size)\n",
    "dataloader_val = torch.utils.data.DataLoader(dataset_val, batch_size=1, shuffle=False)\n",
    "\n",
    "dataset_test = ImageSegmentationDataset(files_seg_img_test, files_seg_seg_test, files_seg_msk_test, img_spacing, img_size)\n",
    "dataloader_test = torch.utils.data.DataLoader(dataset_test, batch_size=1, shuffle=False)"
   ]
  },
  {
   "cell_type": "markdown",
   "metadata": {},
   "source": [
    "#### Visualise training example\n",
    "\n",
    "Just to check how a training image looks like after pre-processing."
   ]
  },
  {
   "cell_type": "code",
   "execution_count": 29,
   "metadata": {},
   "outputs": [
    {
     "name": "stdout",
     "output_type": "stream",
     "text": [
      "Image: sub-CC221040_T1w_unbiased.nii.gz\n"
     ]
    },
    {
     "data": {
      "image/png": "[encoded data removed]",
      "text/plain": [
       "<Figure size 720x288 with 3 Axes>"
      ]
     },
     "metadata": {
      "needs_background": "light"
     },
     "output_type": "display_data"
    },
    {
     "name": "stdout",
     "output_type": "stream",
     "text": [
      "Segmentation\n"
     ]
    },
    {
     "data": {
      "image/png": "[encoded data removed]",
      "text/plain": [
       "<Figure size 720x288 with 3 Axes>"
      ]
     },
     "metadata": {
      "needs_background": "light"
     },
     "output_type": "display_data"
    },
    {
     "name": "stdout",
     "output_type": "stream",
     "text": [
      "Mask\n"
     ]
    },
    {
     "data": {
      "image/png": "[encoded data removed]",
      "text/plain": [
       "<Figure size 720x288 with 3 Axes>"
      ]
     },
     "metadata": {
      "needs_background": "light"
     },
     "output_type": "display_data"
    }
   ],
   "source": [
    "sample = dataset_train.get_sample(0)\n",
    "img_name = dataset_train.get_img_name(0)\n",
    "seg_name = dataset_train.get_seg_name(0)\n",
    "print('Image: ' + img_name)\n",
    "display_image(sample['img'], window=5, level=0)\n",
    "print('Segmentation')\n",
    "display_image(sitk.LabelToRGB(sample['seg']))\n",
    "print('Mask')\n",
    "display_image(sample['msk'])"
   ]
  },
  {
   "cell_type": "markdown",
   "metadata": {},
   "source": [
    "#### The Model\n",
    "\n",
    "**TASK:** This is the **key part of task A-1** where you have to design a suitable CNN model for brain segmentation. The simple model provided below works to some degree (it let's you run through the upcoming cells), but it will not perform very well. Use what you learned in the lectures to come up with a good architecture. Start with a simple, shallow model and only increase complexity (e.g., number of layers) if needed."
   ]
  },
  {
   "cell_type": "code",
   "execution_count": 39,
   "metadata": {},
   "outputs": [
    {
     "name": "stdout",
     "output_type": "stream",
     "text": [
      "Total number of parameters in Model is: 363501\n",
      "ResidualNet3D(\n",
      "  (conv1): Sequential(\n",
      "    (0): Conv3d(1, 12, kernel_size=(3, 3, 3), stride=(1, 1, 1), padding=(1, 1, 1), bias=False)\n",
      "    (1): BatchNorm3d(12, eps=1e-05, momentum=0.1, affine=True, track_running_stats=True)\n",
      "    (2): ReLU(inplace=True)\n",
      "    (3): Dropout(p=0.05, inplace=False)\n",
      "  )\n",
      "  (layer1): Sequential(\n",
      "    (0): ResBlock(\n",
      "      (left): Sequential(\n",
      "        (0): Conv3d(12, 18, kernel_size=(3, 3, 3), stride=(1, 1, 1), padding=(1, 1, 1), bias=False)\n",
      "        (1): BatchNorm3d(18, eps=1e-05, momentum=0.1, affine=True, track_running_stats=True)\n",
      "        (2): ReLU(inplace=True)\n",
      "        (3): Dropout(p=0.05, inplace=False)\n",
      "        (4): Conv3d(18, 18, kernel_size=(3, 3, 3), stride=(1, 1, 1), padding=(1, 1, 1), bias=False)\n",
      "        (5): BatchNorm3d(18, eps=1e-05, momentum=0.1, affine=True, track_running_stats=True)\n",
      "        (6): Dropout(p=0.05, inplace=False)\n",
      "      )\n",
      "      (shortcut): Sequential(\n",
      "        (0): Conv3d(12, 18, kernel_size=(1, 1, 1), stride=(1, 1, 1), bias=False)\n",
      "        (1): BatchNorm3d(18, eps=1e-05, momentum=0.1, affine=True, track_running_stats=True)\n",
      "        (2): Dropout(p=0.05, inplace=False)\n",
      "      )\n",
      "    )\n",
      "    (1): ResBlock(\n",
      "      (left): Sequential(\n",
      "        (0): Conv3d(18, 18, kernel_size=(3, 3, 3), stride=(1, 1, 1), padding=(1, 1, 1), bias=False)\n",
      "        (1): BatchNorm3d(18, eps=1e-05, momentum=0.1, affine=True, track_running_stats=True)\n",
      "        (2): ReLU(inplace=True)\n",
      "        (3): Dropout(p=0.05, inplace=False)\n",
      "        (4): Conv3d(18, 18, kernel_size=(3, 3, 3), stride=(1, 1, 1), padding=(1, 1, 1), bias=False)\n",
      "        (5): BatchNorm3d(18, eps=1e-05, momentum=0.1, affine=True, track_running_stats=True)\n",
      "        (6): Dropout(p=0.05, inplace=False)\n",
      "      )\n",
      "      (shortcut): Sequential()\n",
      "    )\n",
      "  )\n",
      "  (layer2): Sequential(\n",
      "    (0): ResBlock(\n",
      "      (left): Sequential(\n",
      "        (0): Conv3d(18, 24, kernel_size=(3, 3, 3), stride=(1, 1, 1), padding=(1, 1, 1), bias=False)\n",
      "        (1): BatchNorm3d(24, eps=1e-05, momentum=0.1, affine=True, track_running_stats=True)\n",
      "        (2): ReLU(inplace=True)\n",
      "        (3): Dropout(p=0.05, inplace=False)\n",
      "        (4): Conv3d(24, 24, kernel_size=(3, 3, 3), stride=(1, 1, 1), padding=(1, 1, 1), bias=False)\n",
      "        (5): BatchNorm3d(24, eps=1e-05, momentum=0.1, affine=True, track_running_stats=True)\n",
      "        (6): Dropout(p=0.05, inplace=False)\n",
      "      )\n",
      "      (shortcut): Sequential(\n",
      "        (0): Conv3d(18, 24, kernel_size=(1, 1, 1), stride=(1, 1, 1), bias=False)\n",
      "        (1): BatchNorm3d(24, eps=1e-05, momentum=0.1, affine=True, track_running_stats=True)\n",
      "        (2): Dropout(p=0.05, inplace=False)\n",
      "      )\n",
      "    )\n",
      "    (1): ResBlock(\n",
      "      (left): Sequential(\n",
      "        (0): Conv3d(24, 24, kernel_size=(3, 3, 3), stride=(1, 1, 1), padding=(1, 1, 1), bias=False)\n",
      "        (1): BatchNorm3d(24, eps=1e-05, momentum=0.1, affine=True, track_running_stats=True)\n",
      "        (2): ReLU(inplace=True)\n",
      "        (3): Dropout(p=0.05, inplace=False)\n",
      "        (4): Conv3d(24, 24, kernel_size=(3, 3, 3), stride=(1, 1, 1), padding=(1, 1, 1), bias=False)\n",
      "        (5): BatchNorm3d(24, eps=1e-05, momentum=0.1, affine=True, track_running_stats=True)\n",
      "        (6): Dropout(p=0.05, inplace=False)\n",
      "      )\n",
      "      (shortcut): Sequential()\n",
      "    )\n",
      "  )\n",
      "  (layer3): Sequential(\n",
      "    (0): ResBlock(\n",
      "      (left): Sequential(\n",
      "        (0): Conv3d(24, 32, kernel_size=(3, 3, 3), stride=(1, 1, 1), padding=(1, 1, 1), bias=False)\n",
      "        (1): BatchNorm3d(32, eps=1e-05, momentum=0.1, affine=True, track_running_stats=True)\n",
      "        (2): ReLU(inplace=True)\n",
      "        (3): Dropout(p=0.05, inplace=False)\n",
      "        (4): Conv3d(32, 32, kernel_size=(3, 3, 3), stride=(1, 1, 1), padding=(1, 1, 1), bias=False)\n",
      "        (5): BatchNorm3d(32, eps=1e-05, momentum=0.1, affine=True, track_running_stats=True)\n",
      "        (6): Dropout(p=0.05, inplace=False)\n",
      "      )\n",
      "      (shortcut): Sequential(\n",
      "        (0): Conv3d(24, 32, kernel_size=(1, 1, 1), stride=(1, 1, 1), bias=False)\n",
      "        (1): BatchNorm3d(32, eps=1e-05, momentum=0.1, affine=True, track_running_stats=True)\n",
      "        (2): Dropout(p=0.05, inplace=False)\n",
      "      )\n",
      "    )\n",
      "    (1): ResBlock(\n",
      "      (left): Sequential(\n",
      "        (0): Conv3d(32, 32, kernel_size=(3, 3, 3), stride=(1, 1, 1), padding=(1, 1, 1), bias=False)\n",
      "        (1): BatchNorm3d(32, eps=1e-05, momentum=0.1, affine=True, track_running_stats=True)\n",
      "        (2): ReLU(inplace=True)\n",
      "        (3): Dropout(p=0.05, inplace=False)\n",
      "        (4): Conv3d(32, 32, kernel_size=(3, 3, 3), stride=(1, 1, 1), padding=(1, 1, 1), bias=False)\n",
      "        (5): BatchNorm3d(32, eps=1e-05, momentum=0.1, affine=True, track_running_stats=True)\n",
      "        (6): Dropout(p=0.05, inplace=False)\n",
      "      )\n",
      "      (shortcut): Sequential()\n",
      "    )\n",
      "  )\n",
      "  (layer4): Sequential(\n",
      "    (0): ResBlock(\n",
      "      (left): Sequential(\n",
      "        (0): Conv3d(32, 40, kernel_size=(3, 3, 3), stride=(1, 1, 1), padding=(1, 1, 1), bias=False)\n",
      "        (1): BatchNorm3d(40, eps=1e-05, momentum=0.1, affine=True, track_running_stats=True)\n",
      "        (2): ReLU(inplace=True)\n",
      "        (3): Dropout(p=0.05, inplace=False)\n",
      "        (4): Conv3d(40, 40, kernel_size=(3, 3, 3), stride=(1, 1, 1), padding=(1, 1, 1), bias=False)\n",
      "        (5): BatchNorm3d(40, eps=1e-05, momentum=0.1, affine=True, track_running_stats=True)\n",
      "        (6): Dropout(p=0.05, inplace=False)\n",
      "      )\n",
      "      (shortcut): Sequential(\n",
      "        (0): Conv3d(32, 40, kernel_size=(1, 1, 1), stride=(1, 1, 1), bias=False)\n",
      "        (1): BatchNorm3d(40, eps=1e-05, momentum=0.1, affine=True, track_running_stats=True)\n",
      "        (2): Dropout(p=0.05, inplace=False)\n",
      "      )\n",
      "    )\n",
      "    (1): ResBlock(\n",
      "      (left): Sequential(\n",
      "        (0): Conv3d(40, 40, kernel_size=(3, 3, 3), stride=(1, 1, 1), padding=(1, 1, 1), bias=False)\n",
      "        (1): BatchNorm3d(40, eps=1e-05, momentum=0.1, affine=True, track_running_stats=True)\n",
      "        (2): ReLU(inplace=True)\n",
      "        (3): Dropout(p=0.05, inplace=False)\n",
      "        (4): Conv3d(40, 40, kernel_size=(3, 3, 3), stride=(1, 1, 1), padding=(1, 1, 1), bias=False)\n",
      "        (5): BatchNorm3d(40, eps=1e-05, momentum=0.1, affine=True, track_running_stats=True)\n",
      "        (6): Dropout(p=0.05, inplace=False)\n",
      "      )\n",
      "      (shortcut): Sequential()\n",
      "    )\n",
      "  )\n",
      "  (OutLayer): Conv3d(40, 1, kernel_size=(3, 3, 3), stride=(1, 1, 1), padding=(1, 1, 1))\n",
      ")\n"
     ]
    }
   ],
   "source": [
    "########################################\n",
    "# BUILD A BETTER MODEL HERE\n",
    "########################################\n",
    "\n",
    "class ModelBlock(nn.Module): \n",
    "    def __init__(self, block):\n",
    "        super(ModelBlock, self).__init__() \n",
    "        self.block = nn.Sequential(*block)\n",
    "    \n",
    "    def forward(self, x): \n",
    "        out = self.block(x) \n",
    "        return out\n",
    "\n",
    "class ResBlock(nn.Module): \n",
    "    def __init__(self, in_channel, out_channel, kernel_size = 3, stride=1, dp = 0.05): \n",
    "        \n",
    "        super(ResBlock, self).__init__() \n",
    "        \n",
    "        self.left = nn.Sequential(nn.Conv3d(in_channel, out_channel, \n",
    "                                            kernel_size=kernel_size, stride=stride, \n",
    "                                            padding=1, bias=False), \n",
    "                                  nn.BatchNorm3d(out_channel), \n",
    "                                  nn.ReLU(inplace=True),\n",
    "                                  nn.Dropout(p=dp), \n",
    "                                  \n",
    "                                  nn.Conv3d(out_channel, out_channel, \n",
    "                                            kernel_size=kernel_size, stride=1, \n",
    "                                            padding=1, bias=False), \n",
    "                                  nn.BatchNorm3d(out_channel), \n",
    "                                  nn.Dropout(p=dp))\n",
    "        \n",
    "        self.shortcut = nn.Sequential() \n",
    "        \n",
    "        if stride != 1 or in_channel != out_channel: \n",
    "            \n",
    "            self.shortcut = nn.Sequential(nn.Conv3d(in_channel, out_channel, \n",
    "                                                 kernel_size=1, stride=stride, \n",
    "                                                 padding = 0, bias=False), \n",
    "                                          nn.BatchNorm3d(out_channel),\n",
    "                                          nn.Dropout(p=dp)) \n",
    "\n",
    "            \n",
    "    def forward(self, x): \n",
    "#         print('HERE')\n",
    "#         print(x.shape)\n",
    "        out = self.left(x)\n",
    "        out += self.shortcut(x) \n",
    "        out = F.relu(out) \n",
    "#         print(out.shape)\n",
    "        return out\n",
    "\n",
    "\n",
    "class ResidualNet3D(nn.Module):\n",
    "\n",
    "    def __init__(self, ResBlock, ModelBlock, num_classes):\n",
    "        super(ResidualNet3D, self).__init__()\n",
    "        \n",
    "        f = 1\n",
    "        self.in_channel = int(12*f)\n",
    "#         self.fc_in_features =  864   \n",
    "#         self.fc_in_features =  256  \n",
    "        self.fc_in_features = None\n",
    "        self.conv1 = nn.Sequential(nn.Conv3d(1, self.in_channel, kernel_size = 3, stride = 1,\n",
    "                                            padding = 1, bias = False), \n",
    "                                  nn.BatchNorm3d(self.in_channel),\n",
    "                                  nn.ReLU(inplace = True),\n",
    "                                  nn.Dropout(p=0.05))\n",
    "                                  \n",
    "        self.layer1 = self.make_layer(ResBlock, num_blocks = 2, out_channel = int(18*f), stride = 1)\n",
    "        self.layer2 = self.make_layer(ResBlock, num_blocks = 2, out_channel = int(24*f), stride = 1)\n",
    "        self.layer3 = self.make_layer(ResBlock, num_blocks = 2, out_channel = int(32*f), stride = 1)\n",
    "        self.layer4 = self.make_layer(ResBlock, num_blocks = 2, out_channel = int(40*f), stride = 1)\n",
    "        self.OutLayer = nn.Conv3d(int(40*f), num_classes, kernel_size=3, padding=1, stride = 1)\n",
    "        \n",
    "        # USED FOR CLASSIFICATION TASK, ALSO INCREASE STRIDING OF BLOCKS TO 2!\n",
    "        #self.maxpool = nn.MaxPool3d(2)\n",
    "        #self.fc = self.make_fc([80,40],num_classes)\n",
    "                                  \n",
    "    def make_layer(self, block, num_blocks, out_channel, stride):\n",
    "        strides = [stride] + [1] * (num_blocks - 1)\n",
    "        layers = []\n",
    "        \n",
    "        for stride in strides:\n",
    "            layers.append(ResBlock(self.in_channel, out_channel, stride = stride))\n",
    "            self.in_channel = out_channel \n",
    "            \n",
    "        return nn.Sequential(*layers)\n",
    "    \n",
    "    # USED FOR CLASSIFICATION TASK\n",
    "    def make_fc(self, hidden_layers, num_classes):\n",
    "        \n",
    "        layers = []\n",
    "        fc_layers = hidden_layers + [num_classes]\n",
    "        in_features = self.fc_in_features\n",
    "        \n",
    "        for hl in fc_layers:\n",
    "            if hl is fc_layers[-1]:\n",
    "                block = [nn.Linear(in_features,hl, bias = True), nn.Softmax(dim = 1)]\n",
    "            else:\n",
    "                block = [nn.Linear(in_features,hl, bias = True), nn.ReLU(inplace = True)]\n",
    "            module_block = ModelBlock(block)\n",
    "            layers.append(module_block)\n",
    "            in_features = hl\n",
    "            \n",
    "        return nn.Sequential(*layers)\n",
    "                                  \n",
    "    def forward(self, x):\n",
    "        x = F.relu(self.conv1(x),inplace=True)\n",
    "        x = F.relu(self.layer1(x),inplace=True)\n",
    "        x = F.relu(self.layer2(x),inplace=True)\n",
    "        x = F.relu(self.layer3(x),inplace=True)\n",
    "        x = F.relu(self.layer4(x),inplace=True)\n",
    "        x = self.OutLayer(x)\n",
    "        x = F.softmax(x, dim=1)\n",
    "        return x     \n",
    "\n",
    "torch.manual_seed(rnd_seed) #fix random seed\n",
    "# torch.cuda.empty_cache()\n",
    "\n",
    "model_dir = os.path.join(out_dir, 'model')\n",
    "if not os.path.exists(model_dir):\n",
    "    os.makedirs(model_dir)\n",
    "\n",
    "def weights_init(m):\n",
    "    classname = m.__class__.__name__\n",
    "    if classname.find('Conv') != -1:\n",
    "        m.weight.data.normal_(0.0, 0.02)\n",
    "    elif classname.find('BatchNorm') != -1:\n",
    "        m.weight.data.normal_(1.0, 0.02)\n",
    "        m.bias.data.fill_(0)\n",
    "        \n",
    "model = ResidualNet3D(ResBlock, ModelBlock, num_classes=num_classes).to(device)\n",
    "\n",
    "weights_initialiser = True\n",
    "\n",
    "if weights_initialiser:\n",
    "    model.apply(weights_init)\n",
    "params_net = sum(p.numel() for p in model.parameters() if p.requires_grad)\n",
    "print(\"Total number of parameters in Model is: {}\".format(params_net))\n",
    "print(model)\n",
    "\n",
    "optimizer = torch.optim.Adam(model.parameters(), lr=learning_rate, betas=(0.9, 0.999))\n",
    "scheduler = optim.lr_scheduler.StepLR(optimizer, step_size = 2, gamma = 0.95)"
   ]
  },
  {
   "cell_type": "markdown",
   "metadata": {},
   "source": [
    "#### TRAINING\n",
    "\n",
    "Below is an implementation of a full training procedure including a loop for intermediate evaluation of the model on the validation data. Feel free to modify this procedure. For example, in addition to the loss you may want to monitor precision, recall and Dice scores (or others)."
   ]
  },
  {
   "cell_type": "code",
   "execution_count": null,
   "metadata": {
    "scrolled": true
   },
   "outputs": [],
   "source": [
    "loss_train_log = []\n",
    "loss_val_log = []\n",
    "epoch_val_log = []\n",
    "\n",
    "model.train()\n",
    "\n",
    "print('START TRAINING...')\n",
    "for epoch in range(1, num_epochs + 1):\n",
    "\n",
    "    # Training\n",
    "    for batch_idx, batch_samples in enumerate(dataloader_train):\n",
    "        img, seg = batch_samples['img'].to(device), batch_samples['seg'].to(device)\n",
    "        optimizer.zero_grad()\n",
    "        prd = model(img)\n",
    "        prd_flat = prd.view(prd.size(0), prd.size(1), -1)\n",
    "        seg_flat = seg.view(seg.size(0), seg.size(1), -1)\n",
    "        loss = F.cross_entropy(prd_flat, seg_flat.squeeze(1))\n",
    "        loss.backward()\n",
    "        optimizer.step()\n",
    "\n",
    "    loss_train_log.append(loss.detach().item())\n",
    "\n",
    "    print('+ TRAINING \\tEpoch: {} \\tLoss: {:.6f}'.format(epoch, loss.item()))\n",
    "    \n",
    "    # Validation\n",
    "    if epoch == 1 or epoch % val_interval == 0:\n",
    "        loss_val = 0\n",
    "        sum_pts = 0\n",
    "        with torch.no_grad():\n",
    "            for data_sample in dataloader_val:\n",
    "                img, seg = data_sample['img'].to(device), data_sample['seg'].to(device)\n",
    "                prd = model(img)\n",
    "                prd_flat = prd.view(prd.size(0), prd.size(1), -1)\n",
    "                seg_flat = seg.view(seg.size(0), seg.size(1), -1)\n",
    "                loss_val += F.cross_entropy(prd_flat, seg_flat.squeeze(1), reduction='sum').item()\n",
    "                sum_pts += seg_flat.size(2)\n",
    "                \n",
    "        prd = torch.argmax(prd, dim=1)\n",
    "        prediction = sitk.GetImageFromArray(prd.cpu().squeeze().numpy().astype(np.uint8))\n",
    "        \n",
    "\n",
    "        loss_val /= sum_pts\n",
    "\n",
    "        loss_val_log.append(loss_val)\n",
    "        epoch_val_log.append(epoch)\n",
    "\n",
    "        print('--------------------------------------------------')\n",
    "        print('+ VALIDATE \\tEpoch: {} \\tLoss: {:.6f}'.format(epoch, loss_val))\n",
    "        display_image(sitk.LabelToRGB(prediction))\n",
    "        print('--------------------------------------------------')\n",
    "        \n",
    "    if epoch % num_save_epochs == 0:\n",
    "        print('SAVING MODEL JUST IN CASE')\n",
    "        torch.save(model.state_dict(), os.path.join(model_dir, 'model.pt'))\n",
    "\n",
    "print('\\nFinished TRAINING.')\n",
    "torch.save(model.state_dict(), os.path.join(model_dir, 'model.pt'))\n",
    "print('FULL MODEL SAVED SUCCESSFULLY')\n",
    "\n",
    "plt.plot(range(1, num_epochs + 1), loss_train_log, c='r', label='train')\n",
    "plt.plot(epoch_val_log, loss_val_log, c='b', label='val')\n",
    "plt.legend(loc='upper right')\n",
    "plt.xlabel('epoch')\n",
    "plt.ylabel('loss')\n",
    "plt.show()"
   ]
  },
  {
   "cell_type": "markdown",
   "metadata": {},
   "source": [
    "#### Loading and pre-processing of testing data\n",
    "\n",
    "Now that we have trained a model, the next cells are about applying that model to the 500 subjects that are used for training the age regressor. Note, at a later stage you will also need to run the model on the 100 subjects from the hold-out set, once these have been made available. Before testing on the full set, you may want to initially just test on the 5 validation subjects to check everything is working fine."
   ]
  },
  {
   "cell_type": "code",
   "execution_count": 41,
   "metadata": {},
   "outputs": [
    {
     "name": "stderr",
     "output_type": "stream",
     "text": [
      "Loading Data: 100%|██████████| 100/100 [00:19<00:00,  5.13it/s]\n"
     ]
    }
   ],
   "source": [
    "meta_data_reg_test = pd.read_csv(data_dir + 'meta/meta_data_reg_test.csv')\n",
    "ids_seg_test = list(meta_data_reg_test['subject_id'])\n",
    "files_seg_img_test = [data_dir + 'images/sub-' + f + '_T1w_unbiased.nii.gz' for f in ids_seg_test]\n",
    "files_seg_seg_test = [data_dir + 'segs_refs/sub-' + f + '_T1w_seg.nii.gz' for f in ids_seg_test]\n",
    "files_seg_msk_test = [data_dir + 'masks/sub-' + f + '_T1w_brain_mask.nii.gz' for f in ids_seg_test]\n",
    "\n",
    "dataset_test = ImageSegmentationDataset(files_seg_img_test, files_seg_seg_test, files_seg_msk_test, img_spacing, img_size)\n",
    "dataloader_test = torch.utils.data.DataLoader(dataset_test, batch_size=1, shuffle=False)"
   ]
  },
  {
   "cell_type": "markdown",
   "metadata": {},
   "source": [
    "#### Visualise testing example\n",
    "\n",
    "Just to check how a testing image looks like after pre-processing."
   ]
  },
  {
   "cell_type": "code",
   "execution_count": 147,
   "metadata": {},
   "outputs": [
    {
     "name": "stdout",
     "output_type": "stream",
     "text": [
      "Image: sub-CC520745_T1w_unbiased.nii.gz\n"
     ]
    },
    {
     "data": {
      "image/png": "[encoded data removed]",
      "text/plain": [
       "<Figure size 720x288 with 3 Axes>"
      ]
     },
     "metadata": {
      "needs_background": "light"
     },
     "output_type": "display_data"
    },
    {
     "name": "stdout",
     "output_type": "stream",
     "text": [
      "Segmentation\n"
     ]
    },
    {
     "data": {
      "image/png": "[encoded data removed]",
      "text/plain": [
       "<Figure size 720x288 with 3 Axes>"
      ]
     },
     "metadata": {
      "needs_background": "light"
     },
     "output_type": "display_data"
    },
    {
     "name": "stdout",
     "output_type": "stream",
     "text": [
      "Mask\n"
     ]
    },
    {
     "data": {
      "image/png": "[encoded data removed]",
      "text/plain": [
       "<Figure size 720x288 with 3 Axes>"
      ]
     },
     "metadata": {
      "needs_background": "light"
     },
     "output_type": "display_data"
    }
   ],
   "source": [
    "sample = dataset_test.get_sample(0)\n",
    "img_name = dataset_test.get_img_name(0)\n",
    "seg_name = dataset_test.get_seg_name(0)\n",
    "print('Image: ' + img_name)\n",
    "display_image(sample['img'], window=5, level=0)\n",
    "print('Segmentation')\n",
    "display_image(sitk.LabelToRGB(sample['seg']))\n",
    "print('Mask')\n",
    "display_image(sample['msk'])"
   ]
  },
  {
   "cell_type": "markdown",
   "metadata": {},
   "source": [
    "#### TESTING\n",
    "\n",
    "Below is an implementation of a full testing procedure that saves the segmentations in an output folder. Feel free to modify this procedure.\n",
    "\n",
    "**TASK: You will need to add the calculations of Dice scores (and possibly others) to evaluate the segmentation performance.**"
   ]
  },
  {
   "cell_type": "code",
   "execution_count": 42,
   "metadata": {
    "scrolled": true
   },
   "outputs": [
    {
     "name": "stdout",
     "output_type": "stream",
     "text": [
      "START TESTING...\n",
      "+ TESTING \tLoss: 0.785366\n",
      "\n",
      "\n",
      "Reference segmentation\n"
     ]
    },
    {
     "data": {
      "image/png": "[encoded data removed]",
      "text/plain": [
       "<Figure size 720x288 with 3 Axes>"
      ]
     },
     "metadata": {
      "needs_background": "light"
     },
     "output_type": "display_data"
    },
    {
     "name": "stdout",
     "output_type": "stream",
     "text": [
      "Predicted segmentation\n"
     ]
    },
    {
     "data": {
      "image/png": "[encoded data removed]",
      "text/plain": [
       "<Figure size 720x288 with 3 Axes>"
      ]
     },
     "metadata": {
      "needs_background": "light"
     },
     "output_type": "display_data"
    },
    {
     "name": "stdout",
     "output_type": "stream",
     "text": [
      "\n",
      "Finished TESTING.\n"
     ]
    },
    {
     "data": {
      "text/plain": [
       "[Text(0, 0.5, 'VS Score')]"
      ]
     },
     "execution_count": 42,
     "metadata": {},
     "output_type": "execute_result"
    },
    {
     "data": {
      "image/png": "[encoded data removed]",
      "text/plain": [
       "<Figure size 432x288 with 1 Axes>"
      ]
     },
     "metadata": {
      "needs_background": "light"
     },
     "output_type": "display_data"
    },
    {
     "data": {
      "image/png": "[encoded data removed]",
      "text/plain": [
       "<Figure size 432x288 with 1 Axes>"
      ]
     },
     "metadata": {
      "needs_background": "light"
     },
     "output_type": "display_data"
    }
   ],
   "source": [
    "import seaborn as sns\n",
    "\n",
    "pred_dir = os.path.join(out_dir, 'pred')\n",
    "if not os.path.exists(pred_dir):\n",
    "    os.makedirs(pred_dir)\n",
    "\n",
    "model = ResidualNet3D(ResBlock, ModelBlock, num_classes=4)\n",
    "model.load_state_dict(torch.load(os.path.join(model_dir, 'model.pt')))\n",
    "model.to(device)\n",
    "model.eval()\n",
    "\n",
    "def iterate_DICE(prd,seg,DICE):\n",
    "    total_pixels = 88*98*76\n",
    "    for idx in range(4):\n",
    "        \n",
    "        prd_idx = (prd == idx)\n",
    "        prd_n_idx = (prd != idx)\n",
    "\n",
    "        DICE['C{}'.format(idx)]['TP'].append(torch.sum(seg[prd_idx] == idx).item()/total_pixels)\n",
    "        DICE['C{}'.format(idx)]['FP'].append(torch.sum(seg[prd_idx] != idx).item()/total_pixels)\n",
    "        DICE['C{}'.format(idx)]['TN'].append(torch.sum(seg[prd_n_idx] != idx).item()/total_pixels)\n",
    "        DICE['C{}'.format(idx)]['FN'].append(torch.sum(seg[prd_n_idx] == idx).item()/total_pixels)\n",
    "    return DICE\n",
    "\n",
    "DICE = {'C0':{'TP':[],'FP':[],'TN':[],'FN':[]}, \n",
    "         'C1':{'TP':[],'FP':[],'TN':[],'FN':[]}, \n",
    "         'C2':{'TP':[],'FP':[],'TN':[],'FN':[]}, \n",
    "         'C3':{'TP':[],'FP':[],'TN':[],'FN':[]}}\n",
    "\n",
    "print('START TESTING...')\n",
    "\n",
    "loss_test = 0\n",
    "sum_pts = 0\n",
    "idx_test = 0\n",
    "with torch.no_grad():\n",
    "    for data_sample in dataloader_test:\n",
    "        img, seg = data_sample['img'].to(device), data_sample['seg'].to(device)\n",
    "        prd = model(img)\n",
    "        prd_flat = prd.view(prd.size(0), prd.size(1), -1)\n",
    "        seg_flat = seg.view(seg.size(0), seg.size(1), -1)\n",
    "        loss_test += F.cross_entropy(prd_flat, seg_flat.squeeze(1), reduction='sum').item()\n",
    "        sum_pts += seg_flat.size(2)        \n",
    "        \n",
    "        prd = torch.argmax(prd, dim=1)\n",
    "        \n",
    "        iterate_DICE(prd[0],seg[0,0],DICE)\n",
    "        \n",
    "        sample = dataset_test.get_sample(idx_test)\n",
    "        name = dataset_test.get_seg_name(idx_test)\n",
    "        prediction = sitk.GetImageFromArray(prd.cpu().squeeze().numpy().astype(np.uint8))\n",
    "        prediction.CopyInformation(sample['seg'])\n",
    "        sitk.WriteImage(prediction, os.path.join(pred_dir, name))\n",
    "        \n",
    "        idx_test += 1\n",
    "        \n",
    "loss_test /= sum_pts\n",
    "\n",
    "print('+ TESTING \\tLoss: {:.6f}'.format(loss_test))\n",
    "\n",
    "# Show last testing sample as an example\n",
    "print('\\n\\nReference segmentation')\n",
    "display_image(sitk.LabelToRGB(sample['seg']))\n",
    "print('Predicted segmentation')\n",
    "display_image(sitk.LabelToRGB(prediction))\n",
    "\n",
    "# calculate DICE and VOLUME SIMILARITY from TP, FN, FP, TN\n",
    "for key in DICE.keys():\n",
    "    p_stat = DICE[key]\n",
    "    DICE[key]['DICE'] = 2*np.array(p_stat['TP'])/(2*np.array(p_stat['TP']) + np.array(p_stat['FP']) + np.array(p_stat['FN']))\n",
    "    DICE[key]['VS'] = 1 - np.abs(np.array(p_stat['FN'])-np.array(p_stat['FP']))/(2*np.array(p_stat['TP'])+np.array(p_stat['FP'])+np.array(p_stat['FN']))\n",
    "\n",
    "DDICE = {key:DICE[key]['DICE'] for key in DICE.keys()}\n",
    "VSDICE = {key:DICE[key]['VS'] for key in DICE.keys()}\n",
    "\n",
    "dd = pd.DataFrame(DDICE)\n",
    "dd.rename(columns={\"C0\": \"Background\", \"C1\": \"CSV\", \"C2\": \"GM\", \"C3\":\"WM\"}, inplace = True)\n",
    "vv = pd.DataFrame(VSDICE)\n",
    "vv.rename(columns={\"C0\": \"Background\", \"C1\": \"CSV\", \"C2\": \"GM\", \"C3\":\"WM\"},inplace = True)\n",
    "\n",
    "print('\\nFinished TESTING.')\n",
    "\n",
    "ax = sns.boxplot(data=dd)\n",
    "ax.set(ylabel='DICE Score')\n",
    "plt.figure()\n",
    "ax = sns.boxplot(data=vv)\n",
    "ax.set(ylabel='VS Score')"
   ]
  },
  {
   "cell_type": "markdown",
   "metadata": {},
   "source": [
    "### TASK A-2: Feature calculation\n",
    "\n",
    "Start by calculating the three absolute tissue volumes for each subject. Plot the volumes against the subjects' ages. Taking the absolute volumes of tissues as features, however, might not be predictive. Instead, relative volumes need to be computed as the ratios between each tissue volume and overall brain volume. But you might also want to explore using different combinations or even polynomial features.\n",
    "\n",
    "Implement a function that constructs a big matrix $X$ with a row for each subject and features across the columns. Start with just calculating three simple features of relative tissue volumes for GM, WM and CSF, and compare these to the absolute volumes plotted above.\n",
    "\n",
    "*Note:* If you are struggling with the previous task on image segmentation, or if you prefer to work on this and the following tasks first, you can continue here using the provided reference segmentations which can be found in a subfolder `segs_refs`."
   ]
  },
  {
   "cell_type": "markdown",
   "metadata": {},
   "source": [
    "#### Train and validation data"
   ]
  },
  {
   "cell_type": "code",
   "execution_count": 30,
   "metadata": {},
   "outputs": [
    {
     "name": "stderr",
     "output_type": "stream",
     "text": [
      "Calculating Features: 100%|██████████| 500/500 [00:02<00:00, 172.08it/s]\n"
     ]
    }
   ],
   "source": [
    "## CALCULATE ABSOLUTE TISSUE VOLUMES\n",
    "import os\n",
    "\n",
    "# USE THIS TO RUN THE CALCULATIONS ON YOUR SEGMENTATONS\n",
    "seg_dir = 'output/pred/'\n",
    "\n",
    "# USE THIS TO RUN THE CALCULATIONS ON OUR REFERENCE SEGMENTATIONS\n",
    "# seg_dir = data_dir + 'segs_refs/'\n",
    "\n",
    "meta_data_reg_train = pd.read_csv(data_dir + 'meta/meta_data_reg_train.csv')\n",
    "ids_reg_train = list(meta_data_reg_train['subject_id'])\n",
    "files_reg_seg_train = [seg_dir + 'sub-' + f + '_T1w_seg.nii.gz' for f in ids_reg_train]\n",
    "\n",
    "# THIS MATRIX WILL STORE THE VOLUMES PER TISSUE CLASS\n",
    "vols = np.zeros((3,len(files_reg_seg_train)))\n",
    "\n",
    "for idx, _ in enumerate(tqdm(range(len(files_reg_seg_train)), desc='Calculating Features')):\n",
    "\n",
    "    seg_filename = files_reg_seg_train[idx]\n",
    "    \n",
    "    if os.path.exists(seg_filename):\n",
    "        seg = sitk.ReadImage(seg_filename)\n",
    "        ########################################\n",
    "        # ADD YOUR CODE HERE\n",
    "        \n",
    "        # Compute the absolute volume of the image in mm^3\n",
    "        size = seg.GetSize()\n",
    "        spacing = seg.GetSpacing()\n",
    "\n",
    "        width  = size[0] * spacing[0]\n",
    "        height = size[1] * spacing[1]\n",
    "        depth  = size[2] * spacing[2]\n",
    "        \n",
    "        image_volume = width*height*depth\n",
    "        \n",
    "        \n",
    "        # Compute the number of pixels for each label\n",
    "        labels = sitk.GetArrayFromImage(seg)\n",
    "        \n",
    "        bckg_pix = (labels==0).sum()\n",
    "        csf_pix = (labels==1).sum()\n",
    "        gm_pix = (labels==2).sum()\n",
    "        wm_pix = (labels==3).sum()\n",
    "        \n",
    "        ## volumes in mm^3 in the volumes array directly\n",
    "        vols[0,idx] = image_volume*(csf_pix/labels.size)\n",
    "        vols[1,idx] = image_volume*(gm_pix/labels.size)\n",
    "        vols[2,idx] = image_volume*(wm_pix/labels.size) \n",
    "\n",
    "        ########################################"
   ]
  },
  {
   "cell_type": "markdown",
   "metadata": {},
   "source": [
    "#### Test data"
   ]
  },
  {
   "cell_type": "code",
   "execution_count": 31,
   "metadata": {},
   "outputs": [
    {
     "name": "stderr",
     "output_type": "stream",
     "text": [
      "Calculating Features: 100%|██████████| 100/100 [00:00<00:00, 173.34it/s]\n"
     ]
    }
   ],
   "source": [
    "## Getting the testing data volumes\n",
    "meta_data_reg_test = pd.read_csv(data_dir + '/meta/meta_data_reg_test.csv')\n",
    "ids_reg_test = list(meta_data_reg_test['subject_id'])\n",
    "files_reg_seg_test = [seg_dir + 'sub-' + f + '_T1w_seg.nii.gz' for f in ids_reg_test]\n",
    "\n",
    "vols_test = np.zeros((3,len(files_reg_seg_test)))\n",
    "\n",
    "for idx, _ in enumerate(tqdm(range(len(files_reg_seg_test)), desc='Calculating Features')):\n",
    "\n",
    "    seg_filename = files_reg_seg_test[idx]\n",
    "    \n",
    "    if os.path.exists(seg_filename):\n",
    "        seg = sitk.ReadImage(seg_filename)\n",
    "        ########################################\n",
    "        # ADD YOUR CODE HERE\n",
    "        \n",
    "        # Compute the absolute volume of the image in mm^3\n",
    "        size = seg.GetSize()\n",
    "        spacing = seg.GetSpacing()\n",
    "\n",
    "        width  = size[0] * spacing[0]\n",
    "        height = size[1] * spacing[1]\n",
    "        depth  = size[2] * spacing[2]\n",
    "        \n",
    "        image_volume = width*height*depth\n",
    "        \n",
    "        \n",
    "        # Compute the number of pixels for each label\n",
    "        labels = sitk.GetArrayFromImage(seg)\n",
    "        \n",
    "        bckg_pix = (labels==0).sum()\n",
    "        csf_pix = (labels==1).sum()\n",
    "        gm_pix = (labels==2).sum()\n",
    "        wm_pix = (labels==3).sum()\n",
    "        \n",
    "        ## volumes in mm^3 in the volumes array directly\n",
    "#         bckg_phy_vol = image_volume*(bckg_pix/labels.size)\n",
    "        vols_test[0,idx] = image_volume*(csf_pix/labels.size)\n",
    "        vols_test[1,idx] = image_volume*(gm_pix/labels.size)\n",
    "        vols_test[2,idx] = image_volume*(wm_pix/labels.size) \n",
    "\n",
    "        ########################################"
   ]
  },
  {
   "cell_type": "markdown",
   "metadata": {},
   "source": [
    "Plot features versus age."
   ]
  },
  {
   "cell_type": "code",
   "execution_count": 32,
   "metadata": {},
   "outputs": [
    {
     "data": {
      "image/png": "[encoded data removed]",
      "text/plain": [
       "<Figure size 432x288 with 1 Axes>"
      ]
     },
     "metadata": {
      "needs_background": "light"
     },
     "output_type": "display_data"
    }
   ],
   "source": [
    "plt.scatter(vols[0,:],meta_data_reg_train['age'], marker='.')\n",
    "plt.scatter(vols[1,:],meta_data_reg_train['age'], marker='.')\n",
    "plt.scatter(vols[2,:],meta_data_reg_train['age'], marker='.')\n",
    "plt.grid()\n",
    "plt.title('Unnormalised')\n",
    "plt.xlabel('Volume')\n",
    "plt.ylabel('Age')\n",
    "plt.legend(('CSF','GM','WM'))\n",
    "plt.show()"
   ]
  },
  {
   "cell_type": "code",
   "execution_count": 33,
   "metadata": {},
   "outputs": [],
   "source": [
    "## CALCULATE RELATIVE TISSUE VOLUMES\n",
    "\n",
    "vols_normalised = np.zeros((3,len(files_reg_seg_train)))\n",
    "vols_test_normalised = np.zeros((3,len(files_reg_seg_test)))\n",
    "\n",
    "########################################\n",
    "# ADD YOUR CODE HERE\n",
    "vols_normalised = vols/vols.sum(axis=0)\n",
    "vols_test_normalised = vols_test/vols_test.sum(axis=0)\n",
    "########################################"
   ]
  },
  {
   "cell_type": "markdown",
   "metadata": {},
   "source": [
    "Plot normalised features versus age."
   ]
  },
  {
   "cell_type": "code",
   "execution_count": 34,
   "metadata": {},
   "outputs": [
    {
     "data": {
      "image/png": "[encoded data removed]",
      "text/plain": [
       "<Figure size 432x288 with 1 Axes>"
      ]
     },
     "metadata": {
      "needs_background": "light"
     },
     "output_type": "display_data"
    }
   ],
   "source": [
    "plt.scatter(vols_normalised[0,:],meta_data_reg_train['age'], marker='.')\n",
    "plt.scatter(vols_normalised[1,:],meta_data_reg_train['age'], marker='.')\n",
    "plt.scatter(vols_normalised[2,:],meta_data_reg_train['age'], marker='.')\n",
    "plt.grid()\n",
    "plt.title('Normalised')\n",
    "plt.xlabel('Volume Percentage')\n",
    "plt.ylabel('Age')\n",
    "plt.legend(('CSF','GM','WM'))\n",
    "plt.show()"
   ]
  },
  {
   "cell_type": "markdown",
   "metadata": {},
   "source": [
    "Final data for age regression"
   ]
  },
  {
   "cell_type": "code",
   "execution_count": 35,
   "metadata": {},
   "outputs": [],
   "source": [
    "X_trainval = vols_normalised.T\n",
    "y_trainval = meta_data_reg_train['age'].values.reshape(-1,1)\n",
    "\n",
    "X_test = vols_test_normalised.T\n",
    "y_test = meta_data_reg_test['age'].values.reshape(-1,1)"
   ]
  },
  {
   "cell_type": "code",
   "execution_count": 36,
   "metadata": {},
   "outputs": [],
   "source": [
    "# Extra features? Does anything seem to appear logical hehe maybe 1/tissue_volumes for the two GM and WM?\n",
    "# The simplest i find is simply to use only CSF and GM as the WM does not seem to provide any information\n",
    "def _reduce_features(X):\n",
    "    X_reduced =  X[:,:2]\n",
    "    return X_reduced "
   ]
  },
  {
   "cell_type": "markdown",
   "metadata": {},
   "source": [
    "### TASK A-3: Age regression and cross-validation\n",
    "\n",
    "Experiment with different regression methods from the [scikit-learn toolkit](http://scikit-learn.org/stable/supervised_learning.html#supervised-learning). Remember to construct the output vectur $y$ containing the age for each of the subjects.\n",
    "\n",
    "Evaluate the methods using two-fold [cross-validation](http://scikit-learn.org/stable/modules/cross_validation.html#cross-validation) where the dataset of 500 subjects is split into two equally sized sets $(X_1,y_1)$ and $(X_2,y_2)$ which are used for training and testing in an alternating way (so each set is used as $(X_{\\text{train}},y_{\\text{train}})$ and $(X_{\\text{test}},y_{\\text{test}})$ exactly once).\n",
    "\n",
    "Try using at least three different regression methods, and generate a plot allows easy comparison of the performance of the three methods. Useful [error metrics](https://scikit-learn.org/stable/modules/model_evaluation.html#regression-metrics) to report include mean absolute error and r2 score. You might also want to plot the real vs predicted ages.\n",
    "\n",
    "*Note:* These [scikit-learn examples](https://scikit-learn.org/stable/auto_examples/) might serve as an inspiration.\n",
    "\n",
    "*Hint:* Be careful how you split the dataset into two folds. Take into account the data characteristics shown at the top of the notebook."
   ]
  },
  {
   "cell_type": "code",
   "execution_count": 37,
   "metadata": {},
   "outputs": [],
   "source": [
    "## Imports for the cross validation and model testing\n",
    "from sklearn.model_selection import KFold\n",
    "from sklearn import linear_model\n",
    "from sklearn.ensemble import RandomForestRegressor\n",
    "from sklearn.ensemble import AdaBoostRegressor\n",
    "from sklearn.svm import SVR\n",
    "from sklearn.metrics import mean_absolute_error\n",
    "from sklearn.metrics import r2_score\n",
    "from sklearn.metrics import mean_squared_error\n",
    "from sklearn.model_selection import GridSearchCV"
   ]
  },
  {
   "cell_type": "markdown",
   "metadata": {},
   "source": [
    "#### Resampling and augmenting the data"
   ]
  },
  {
   "cell_type": "code",
   "execution_count": 38,
   "metadata": {},
   "outputs": [],
   "source": [
    "########################################\n",
    "# ADD YOUR CODE HERE\n",
    "\n",
    "## Getting the extra data/upsamlping\n",
    "def _augment_data(features, labels, augmentation):\n",
    "    '''This fucntion serves to augment the data according to the inverse of their\n",
    "    probability distribution function in order to perfrom upsampling of the\n",
    "    imbalanced age groups.\n",
    "    Input: \n",
    "        features: np array of shape [number of samples, number of features]\n",
    "        labels: np array of shape [number of samples, number of labels]\n",
    "        augmentation: float, %in data aumentation required\n",
    "    Return:\n",
    "        X_total: np array of shape [number of samples *(1+augmentation), number of features]\n",
    "        y_total: np array of shape [number of samples *(1+augmentation), number of labels]\n",
    "        upsampled_points: number of points added to the dataset'''\n",
    "    \n",
    "    n, bins = np.histogram(y_trainval, 30, density=True)\n",
    "    prob_dist = np.ones(len(n))-n*35\n",
    "    prob_dist = np.clip(prob_dist, 0, 1)\n",
    "    prob_dist = prob_dist/sum(prob_dist)\n",
    "    prob_dist_scaled = prob_dist**2/sum(prob_dist**2)\n",
    "    probs = np.ones(len(labels))\n",
    "\n",
    "    # distriubute the probas according to the ages\n",
    "    for idx in range(len(bins)-1):\n",
    "        probs[(labels[:,0]>=bins[idx])&(labels[:,0]<=bins[idx+1])] = 1*prob_dist[idx]  \n",
    "    scaled_probs = probs/sum(probs)\n",
    "    scaled_probs = scaled_probs**2/sum(scaled_probs**2)\n",
    "\n",
    "    upsampled_points = int(augmentation*features.shape[0])\n",
    "    idxs = np.random.choice(len(labels), p=scaled_probs, size = upsampled_points)\n",
    "    X_augmentation = np.zeros((len(idxs),features.shape[1]))\n",
    "    y_augmentation = np.zeros((len(idxs),labels.shape[1]))\n",
    "    \n",
    "    # Adding noise propotrional to that of the resampling probability and standard deviation of the features\n",
    "    features_std = features.std(axis=0)\n",
    "\n",
    "    for i, value in enumerate(idxs):\n",
    "        X_augmentation[i,:] = features[value,:] + np.random.normal(0, \n",
    "                                                                   features_std*5*scaled_probs[value], \n",
    "                                                                   features[value,:].shape)\n",
    "        y_augmentation[i,:] = labels[value,:]\n",
    "\n",
    "    X_augmentation = np.clip(X_augmentation, 0, 1)\n",
    "\n",
    "    y_total=np.concatenate((labels, y_augmentation), axis=0)\n",
    "    X_total=np.concatenate((features, X_augmentation), axis=0)\n",
    "    \n",
    "    return X_total, y_total, upsampled_points, prob_dist_scaled"
   ]
  },
  {
   "cell_type": "markdown",
   "metadata": {},
   "source": [
    "#### Getting the indices/iterables for the cross validation"
   ]
  },
  {
   "cell_type": "code",
   "execution_count": 39,
   "metadata": {},
   "outputs": [],
   "source": [
    "# indices for the cross validation iterator\n",
    "def _get_cv(idx_xs1, idx_xs2, upsampled_points):\n",
    "    '''This function serves to create the iterables for a 2 fold cross-validation.\n",
    "    Input: \n",
    "        idx_xs1: np array of shape [number of samples in fold]\n",
    "        idx_xs2: np array of shape [number of samples in fold]\n",
    "        upsampled_points: int, number of additional points that have been obtained by upsampling\n",
    "    Return:\n",
    "        cv: tuple of tuples, iterable containing the indices of data to perform the 2 fold cross validation'''\n",
    "    \n",
    "    train1_max_idx = idx_xs1.shape[0] + upsampled_points\n",
    "    test1_min_idx = train1_max_idx\n",
    "    test1_max_idx = test1_min_idx + idx_xs2.shape[0]\n",
    "    \n",
    "    train2_min_idx = test1_min_idx\n",
    "    train2_max_idx = test1_max_idx + upsampled_points\n",
    "    test2_max_idx = idx_xs1.shape[0]\n",
    "\n",
    "    cv = ((np.arange(0, train1_max_idx).tolist(), np.arange(test1_min_idx, test1_max_idx).tolist()),\n",
    "          (np.arange(train2_min_idx, train2_max_idx).tolist(), np.arange(0, test2_max_idx).tolist()))\n",
    "    \n",
    "    return cv"
   ]
  },
  {
   "cell_type": "markdown",
   "metadata": {},
   "source": [
    "#### Getting all the data for the cross validation"
   ]
  },
  {
   "cell_type": "code",
   "execution_count": 48,
   "metadata": {},
   "outputs": [],
   "source": [
    "# Full pipeline\n",
    "\n",
    "def get_data_for_cross_val(X, y, features='full', augment=False, augment_percent=0.4):\n",
    "    '''This fucntion serves to obtain the data to perform 2 fold cross validation ie: the features,\n",
    "    labels, and cv validation iterable. It randomly selects half of each of the dataset and performs \n",
    "    augmentation (if required) on the training sets only.\n",
    "    Input:\n",
    "        X: np array containing the full train/validation set features of shape [samples, features]\n",
    "        y: np array containing the full train/validation set labels of shape [samples, labels]\n",
    "        features: string to specify if all the features are used, or only the reduced set\n",
    "        augment: boolean informing if augemtation via upsampling is made\n",
    "        augment_percent: float, percent by which the samples are increased\n",
    "    Return:\n",
    "        X_total: np array of the total samples (with augmentation or not) of shape [samples with augm, features]\n",
    "        y_total: np array of the labels corrsponding with X_total [samples with augm, features]\n",
    "        cv: tuple of tuple containing the indices for each fold of the cross validation.'''\n",
    "    \n",
    "    # getting the correct features\n",
    "    if features=='reduced':\n",
    "        X = _reduce_features(X)\n",
    "    \n",
    "    # Sparating the datapoints\n",
    "    idx_xs1 = np.random.choice(X.shape[0], int(X.shape[0]/2), replace=False)\n",
    "    idx_xs2 = np.setdiff1d(np.arange(X.shape[0]), idx_xs1)\n",
    "    \n",
    "    X_set1, y_set1 = X[idx_xs1], y[idx_xs1]\n",
    "    X_set2, y_set2 = X[idx_xs2], y[idx_xs2]\n",
    "    \n",
    "    hist_y_prior = np.concatenate((y_set1, y_set2), axis=0)\n",
    "    \n",
    "    # augmenting the data\n",
    "    if augment:\n",
    "        X_set1, y_set1, upsampled_points, scaled_probs1 = _augment_data(X_set1, y_set1, augment_percent)\n",
    "        X_set2, y_set2, upsampled_points, scaled_probs2 = _augment_data(X_set2, y_set2, augment_percent)\n",
    "        probs = (scaled_probs1+scaled_probs2)/15\n",
    "        n, bins = np.histogram(y, 29, density=True)\n",
    "        \n",
    "    # Concatenating the features\n",
    "    X_total = np.concatenate((X_set1, X_set2), axis=0)\n",
    "    y_total = np.concatenate((y_set1, y_set2), axis=0)\n",
    "    \n",
    "    if augment:\n",
    "        plt.figure()\n",
    "        plt.hist(hist_y_prior, 30, alpha=0.5, density=True, label='Prior Resampling')\n",
    "        plt.hist(y_total, 30, alpha=0.5, density=True, label='Post Resampling')\n",
    "        plt.step(bins, probs, where='post', color='r', ls='--', label='Sampling Probability')\n",
    "        plt.xlim((12, 90))\n",
    "        plt.xlabel('Age')\n",
    "        plt.ylabel('Probability Density Function')\n",
    "        plt.legend()\n",
    "    \n",
    "    if augment:\n",
    "        cv = _get_cv(idx_xs1, idx_xs2, upsampled_points)\n",
    "    else:\n",
    "        cv = _get_cv(idx_xs1, idx_xs2, 0)\n",
    "\n",
    "    return X_total, y_total, cv"
   ]
  },
  {
   "cell_type": "code",
   "execution_count": 49,
   "metadata": {},
   "outputs": [
    {
     "data": {
      "image/png": "[encoded data removed]",
      "text/plain": [
       "<Figure size 432x288 with 1 Axes>"
      ]
     },
     "metadata": {
      "needs_background": "light"
     },
     "output_type": "display_data"
    }
   ],
   "source": [
    "# Creating the parameters for the cross validation\n",
    "scoring = {'MAE':'neg_mean_absolute_error', 'r2':'r2'}\n",
    "X_total, y_total, cv = get_data_for_cross_val(X_trainval, y_trainval, features='full', augment=True, augment_percent=0.2)"
   ]
  },
  {
   "cell_type": "markdown",
   "metadata": {},
   "source": [
    "### Performing the Cross-Val Grid Search on the different regressors"
   ]
  },
  {
   "cell_type": "code",
   "execution_count": 43,
   "metadata": {},
   "outputs": [],
   "source": [
    "# With the random forest architecture\n",
    "rf = RandomForestRegressor()\n",
    "parameters_rf = {'n_estimators':[100, 500, 1000], 'bootstrap':('True', 'False'), \n",
    "                 'max_depth':[5, 10, 20],'random_state':[666], 'min_samples_split':[2, 5, 8]}\n",
    "clf = GridSearchCV(estimator=rf, param_grid=parameters_rf, cv=cv, scoring=scoring, refit='MAE')\n",
    "clf.fit(X_total, y_total.ravel())\n",
    "print(clf.best_params_)\n",
    "print(clf.best_score_)"
   ]
  },
  {
   "cell_type": "code",
   "execution_count": null,
   "metadata": {},
   "outputs": [],
   "source": [
    "# With SVM\n",
    "svm = SVR()\n",
    "parameters_svm = {'kernel':('linear', 'rbf', 'poly'), 'C':[1, 10, 50, 100]}\n",
    "clf_svm = GridSearchCV(estimator=svm, param_grid=parameters_svm, cv=cv, scoring=scoring, refit='MAE')\n",
    "clf_svm.fit(X_total, y_total.ravel())\n",
    "print(clf_svm.best_params_)\n",
    "print(clf_svm.best_score_)"
   ]
  },
  {
   "cell_type": "code",
   "execution_count": null,
   "metadata": {},
   "outputs": [],
   "source": [
    "# With RIDGE linear regression\n",
    "lin = linear_model.Ridge()\n",
    "parameters_lin = {'alpha':[0, 0.5, 1, 1.5]}\n",
    "clf_lin = GridSearchCV(estimator=lin, param_grid=parameters_lin, cv=cv, scoring=scoring, refit='MAE')\n",
    "clf_lin.fit(X_total, y_total.ravel())\n",
    "print(clf_lin.best_params_)\n",
    "print(clf_lin.best_score_)"
   ]
  },
  {
   "cell_type": "code",
   "execution_count": null,
   "metadata": {},
   "outputs": [],
   "source": [
    "# With Adaboost Regressor\n",
    "ada = AdaBoostRegressor(random_state=None)\n",
    "parameters_ada = {'n_estimators':[50, 100, 500], \n",
    "                  'learning_rate':[0.5, 1, 1.5],\n",
    "                  'loss':('linear', 'square')\n",
    "                 }\n",
    "ada_grid = GridSearchCV(estimator=ada, param_grid=parameters_ada, cv=cv, scoring=scoring, refit='MAE')\n",
    "ada_grid.fit(X_total, y_total.ravel())\n",
    "print(ada_grid.best_params_)\n",
    "print(ada_grid.best_score_)"
   ]
  },
  {
   "cell_type": "markdown",
   "metadata": {},
   "source": [
    "### Comparing the best of each regressor"
   ]
  },
  {
   "cell_type": "code",
   "execution_count": 50,
   "metadata": {},
   "outputs": [],
   "source": [
    "## With the best model for each of the regressors\n",
    "## This is done to provide plots for the report, comparing the MAE and the r2 score\n",
    "\n",
    "from sklearn import model_selection\n",
    "\n",
    "models = []\n",
    "models.append(('RF', RandomForestRegressor(bootstrap='True', max_depth=5, \n",
    "                                           n_estimators=500, min_samples_split=8)))\n",
    "models.append(('SVM', SVR(kernel='rbf', C=10)))\n",
    "models.append(('Ridge', linear_model.Ridge(alpha=0)))\n",
    "models.append(('AdaBoost', AdaBoostRegressor(**{'learning_rate': 1, 'loss': 'linear', 'n_estimators': 100})))\n",
    "\n",
    "results_mae = []\n",
    "names_mae = []\n",
    "scoring_mae = 'neg_mean_absolute_error'\n",
    "results_r2 = []\n",
    "names_r2 = []\n",
    "scoring_r2 = 'r2'\n",
    "\n",
    "for name, model in models:\n",
    "    cv_results = model_selection.cross_val_score(model, X_total, y_total.ravel(), cv=cv, scoring=scoring['MAE'])\n",
    "    results_mae.append(-cv_results)\n",
    "    names_mae.append(name)\n",
    "    msg = \"%s: %f (%f)\" % (name, cv_results.mean(), cv_results.std())\n",
    "    print(msg)\n",
    "\n",
    "# boxplot algorithm comparison\n",
    "fig = plt.figure()\n",
    "fig.suptitle('Perfromance Comparison')\n",
    "ax = fig.add_subplot(111)\n",
    "results_mae = np.array(results_mae)\n",
    "data = pd.DataFrame(results_mae.T)\n",
    "data.rename(columns={0:names_mae[0], 1: names_mae[1], \n",
    "                     2:names_mae[2], 3:names_mae[3]}, inplace = True)\n",
    "sns.boxplot(data=data)\n",
    "plt.ylabel('MAE')\n",
    "plt.show()\n",
    "plt.figure()\n",
    "\n",
    "for name, model in models:\n",
    "    cv_results = model_selection.cross_val_score(model, X_total, y_total.ravel(), cv=cv, scoring=scoring['r2'])\n",
    "    results_r2.append(cv_results)\n",
    "    names_r2.append(name)\n",
    "    msg = \"%s: %f (%f)\" % (name, cv_results.mean(), cv_results.std())\n",
    "    print(msg)\n",
    "\n",
    "# boxplot algorithm comparison\n",
    "fig = plt.figure()\n",
    "fig.suptitle('Perfromance Comparison')\n",
    "ax = fig.add_subplot(111)\n",
    "results_r2 = np.array(results_r2)\n",
    "data_r2 = pd.DataFrame(results_r2.T)\n",
    "data_r2.rename(columns={0:names_mae[0], 1: names_mae[1], \n",
    "               2:names_mae[2], 3:names_mae[3]}, inplace = True)\n",
    "sns.boxplot(data=data_r2)\n",
    "plt.ylabel('r2 score')\n",
    "plt.show()"
   ]
  },
  {
   "cell_type": "markdown",
   "metadata": {},
   "source": [
    "### Checking the final model performance"
   ]
  },
  {
   "cell_type": "code",
   "execution_count": 52,
   "metadata": {},
   "outputs": [
    {
     "name": "stdout",
     "output_type": "stream",
     "text": [
      "mean absolute error: 6.294241686963585\n",
      "r2 score: 0.8421590522483676\n",
      "mse: 59.688169971976\n"
     ]
    },
    {
     "data": {
      "image/png": "[encoded data removed]",
      "text/plain": [
       "<Figure size 432x288 with 1 Axes>"
      ]
     },
     "metadata": {
      "needs_background": "light"
     },
     "output_type": "display_data"
    }
   ],
   "source": [
    "final_model = SVR(kernel='rbf', C=10)\n",
    "\n",
    "# final data\n",
    "augment=False\n",
    "reduced=True\n",
    "\n",
    "if reduced:\n",
    "    X_train_val = _reduce_features(X_trainval)\n",
    "    X_testing = _reduce_features(X_test)\n",
    "    y_train_val = y_trainval\n",
    "else:\n",
    "    X_train_val = X_trainval\n",
    "    X_testing = X_test\n",
    "    y_train_val = y_trainval\n",
    "\n",
    "if augment:\n",
    "    X_train_val, y_train_val, up_points, probs = _augment_data(X_train_val, y_train_val, 0.2)\n",
    "else:\n",
    "    y_train_val = y_trainval\n",
    "\n",
    "# Test\n",
    "final_model.fit(X_train_val, y_train_val.ravel())\n",
    "predictions = final_model.predict(X_testing)\n",
    "print('mean absolute error: {0}'.format(mean_absolute_error(y_test,predictions)))\n",
    "print('r2 score: {0}'.format(r2_score(y_test,predictions)))\n",
    "print('mse: {}'.format(mean_squared_error(y_test, predictions, squared=True)))\n",
    "fig, ax = plt.subplots()\n",
    "ax.scatter(y_test, predictions, marker='.')\n",
    "ax.plot([y_train_val.min(), y_train_val.max()], [y_train_val.min(), y_train_val.max()], 'k--', lw=2)\n",
    "ax.set_xlabel('Real Age')\n",
    "ax.set_ylabel('Predicted Age')\n",
    "plt.show()"
   ]
  },
  {
   "cell_type": "markdown",
   "metadata": {},
   "source": [
    "Error calculation and plotting"
   ]
  },
  {
   "cell_type": "markdown",
   "metadata": {},
   "source": [
    "## Part B: PCA-based regression using grey matter maps\n",
    "\n",
    "The second approach will make use of grey matter maps that have been already extracted from the MRI scans and aligned to a common reference space to obtain spatially normalised maps. For this, we have used an advanced, state-of-the-art neuroimaging toolkit, called SPM12. The reference space corresponds to the commonly used MNI atlas as seen in the lecture on image segmentation.\n",
    "\n",
    "Because these grey matter maps are spatially normalised (ie., registered), voxel locations across images from different subjects roughly correspond to the same anatomical locations. This means that each voxel location in the grey matter maps can be treated as an individual feature. Because those maps are quite large at their full resolution there would be a very large number of features to deal with (more than 850,000). A dimensionality reduction may need to be performed before training a suitable regressor on the low-dimensional feature representation. We will use Principal Component Analysis (PCA) to do the dimensionality reduction. It might also be beneficial to apply some pre-processing (downsampling, smoothing, etc.) before running PCA, which should be explored. The implemented pipeline should be evaluated using two-fold cross-validation using the same data splits as in part A for the 500 subjects, so the two different approaches can be directly compared in terms average age prediction accuracy.\n",
    "\n",
    "*Note:* For part B, only the spatially normalised grey matter maps should be used."
   ]
  },
  {
   "cell_type": "markdown",
   "metadata": {},
   "source": [
    "### TASK B-1: Pre-processing\n",
    "\n",
    "Before running PCA to reduce the dimensionality of the feature space for grey matter maps, it might be beneficial to run some pre-processing on the maps. In voxel-based analysis where each voxel location is a feature, it is common to apply some smoothing beforehand. This is to reduce noise and to compensate for errors of the spatial normalisation.\n",
    "\n",
    "Because the maps are quite large, it might also be worthwile to explore whether downsampling could be performed even before PCA. This would further reduce the dimensionality, and might be even needed in the case where PCA on the orignial resolution runs into memory issues. You may want to consider other ways of pre-processing and you can find insipiration in the notebook on medical image computing `02-Intro-Medical-Image-Computing.ipynb`.\n",
    "\n",
    "Implement a function that performs suitable pre-processing on each grey matter map.\n",
    "\n",
    "*Hint:* You may want to save the pre-processed maps using `sitk.WriteImage` to avoid recomputation each time you run the notebook."
   ]
  },
  {
   "cell_type": "code",
   "execution_count": 53,
   "metadata": {},
   "outputs": [],
   "source": [
    "########################################\n",
    "# ADD YOUR CODE HERE\n",
    "def downsample(img, factor=4):\n",
    "    img_diff = sitk.GradientAnisotropicDiffusion(img)\n",
    "    return img_diff[::factor, ::factor, ::factor]\n",
    "########################################"
   ]
  },
  {
   "cell_type": "code",
   "execution_count": 29,
   "metadata": {},
   "outputs": [],
   "source": [
    "meta_data_reg_train = pd.read_csv(data_dir + 'meta/meta_data_reg_train.csv')\n",
    "ids_data = list(meta_data_reg_train['subject_id'])\n",
    "age_data = list(meta_data_reg_train['age'])\n",
    "file_list_wm = [data_dir + 'greymatter/wc1sub-' + f + '_T1w.nii.gz' for f in ids_data]"
   ]
  },
  {
   "cell_type": "code",
   "execution_count": 68,
   "metadata": {},
   "outputs": [],
   "source": [
    "prepocessed_dir = './preprocessed'\n",
    "if not os.path.exists(prepocessed_dir):\n",
    "    os.makedirs(prepocessed_dir)\n",
    "    \n",
    "    img_data = np.empty((0, 109350)) #13068 90*108*90\n",
    "    \n",
    "    for name in file_list_wm:\n",
    "        img = sitk.ReadImage(name)\n",
    "        img_down = downsample(img)\n",
    "        sitk.WriteImage(img_down, os.path.join(prepocessed_dir, name.split('/')[-1]))\n",
    "        img_arr = sitk.GetArrayFromImage(img_down)\n",
    "        img_flat = np.ndarray.flatten(img_arr).reshape((1,-1))\n",
    "        img_data = np.append(img_data, img_flat, axis=0)\n",
    "    np.save('preprocessed_flatten_grey_maps.npy', img_data)"
   ]
  },
  {
   "cell_type": "code",
   "execution_count": 55,
   "metadata": {},
   "outputs": [
    {
     "name": "stdout",
     "output_type": "stream",
     "text": [
      "(500, 13068)\n",
      "(500, 1)\n"
     ]
    }
   ],
   "source": [
    "# img_data = np.load('preprocessed_flatten_grey_maps.npy')\n",
    "# img_data = np.load('preprocessed_flatten_grey_maps_down_four.npy')\n",
    "# img_data = np.load('preprocessed_flatten_grey_maps_down_two_diff.npy')\n",
    "img_data = np.load('preprocessed_flatten_grey_maps_down_four_diff.npy')\n",
    "\n",
    "X = img_data\n",
    "y = meta_data_reg_train['age'].values.reshape(-1,1)\n",
    "\n",
    "print(X.shape)\n",
    "print(y.shape)"
   ]
  },
  {
   "cell_type": "code",
   "execution_count": null,
   "metadata": {},
   "outputs": [],
   "source": [
    "meta_data_reg_test = pd.read_csv(data_dir + 'meta/meta_data_reg_test.csv')\n",
    "ids_data_test = list(meta_data_reg_test['subject_id'])\n",
    "age_data_test = list(meta_data_reg_test['age'])\n",
    "file_list_wm_test = [data_dir + 'greymatter/wc1sub-' + f + '_T1w.nii.gz' for f in ids_data_test]"
   ]
  },
  {
   "cell_type": "code",
   "execution_count": null,
   "metadata": {},
   "outputs": [],
   "source": [
    "prepocessed_dir = './preprocessed/test'\n",
    "if not os.path.exists(prepocessed_dir):\n",
    "    os.makedirs(prepocessed_dir)\n",
    "    \n",
    "    img_data_test = np.empty((0, 109350)) #(45*54*45)  90*108*90\n",
    "    \n",
    "    for name in file_list_wm_test:\n",
    "        img = sitk.ReadImage(name)\n",
    "        img_down = downsample(img)\n",
    "        sitk.WriteImage(img_down, os.path.join(prepocessed_dir, name.split('/')[-1]))\n",
    "        img_arr = sitk.GetArrayFromImage(img_down)\n",
    "        img_flat = np.ndarray.flatten(img_arr).reshape((1,-1))\n",
    "        img_data_test = np.append(img_data_test, img_flat, axis=0)\n",
    "    np.save('test_preprocessed_flatten_grey_maps.npy', img_data_test)"
   ]
  },
  {
   "cell_type": "code",
   "execution_count": 56,
   "metadata": {},
   "outputs": [],
   "source": [
    "# img_data_test = np.load('test_preprocessed_flatten_grey_maps_down_four.npy')\n",
    "# img_data_test = np.load('test_preprocessed_flatten_grey_maps.npy')\n",
    "# img_data_test = np.load('test_preprocessed_flatten_grey_maps_down_two_diff.npy')\n",
    "img_data_test = np.load('test_preprocessed_flatten_grey_maps_down_four_diff.npy')\n",
    "\n",
    "X_test_pca = img_data_test\n",
    "y_test_pca = meta_data_reg_test['age'].values.reshape(-1,1)"
   ]
  },
  {
   "cell_type": "markdown",
   "metadata": {},
   "source": [
    "### TASK B-2: Dimensionality reduction\n",
    "\n",
    "Implement dimensionality reduction for grey matter maps using [scitkit-learn's PCA](http://scikit-learn.org/stable/modules/decomposition.html#pca). PCA has an option to set the percentage of variance to be preserved (by setting the parameter `n_components` to a value between 0 and 1). The number of principal modes, that is the new dimensionality of the data, is then automatically determined. Try initially to preserve 95% of the variance (`n_components=0.95`).\n",
    "\n",
    "*Note:* When dimensionality reduction is used as pre-processing step for supervised learning, as in this case, it is important that PCA is fitted to the training data only, but then applied to both the training and testing data. So make sure your implementation consists of two separate steps, 1) fitting the PCA model to $X_{\\text{train}}$ (using the `fit` function), and 2) applying dimensionality reduction to $X_{\\text{train}}$ and $X_{\\text{test}}$ using the `transform` function."
   ]
  },
  {
   "cell_type": "code",
   "execution_count": 57,
   "metadata": {},
   "outputs": [],
   "source": [
    "########################################\n",
    "# ADD YOUR CODE HERE\n",
    "import sklearn.decomposition as decomp\n",
    "# Create PCA instance\n",
    "def get_pca(X_train, X_val):\n",
    "    # set value found by testing with 0.95 to ensure that the two sets of cross validation \n",
    "    # are of the same shape\n",
    "    pca = decomp.PCA(n_components=184) \n",
    "    # Fit the data\n",
    "    pca.fit(X_train)\n",
    "    # Transform the data\n",
    "    X_train_pca = pca.transform(X_train)\n",
    "    X_val_pca = pca.transform(X_val)\n",
    "    print(X_train_pca.shape)\n",
    "    return X_train_pca, X_val_pca\n",
    "########################################"
   ]
  },
  {
   "cell_type": "markdown",
   "metadata": {},
   "source": [
    "### TASK B-3: Age regression and cross-validation\n",
    "\n",
    "Experiment with different regression methods from the [scikit-learn toolkit](http://scikit-learn.org/stable/supervised_learning.html#supervised-learning). Evaluate the methods using two-fold [cross-validation](http://scikit-learn.org/stable/modules/cross_validation.html#cross-validation) in the same way as for your approach in Part A so results can be directly compared. Generate the similar plots.\n",
    "\n",
    "Try using at least three different regression methods.\n",
    "\n",
    "*Hint:* Remember, when you use cross-validation where you swap training and testing sets in each fold, you need to fit PCA to the training set of each fold."
   ]
  },
  {
   "cell_type": "markdown",
   "metadata": {},
   "source": [
    "### Creating the function for resampling and constructing the cross validation iterables"
   ]
  },
  {
   "cell_type": "code",
   "execution_count": 61,
   "metadata": {},
   "outputs": [],
   "source": [
    "# indices for the cross validation iterator\n",
    "def _get_cv_pca(idx_xs1, idx_xs2, upsampled_points):\n",
    "    '''This function serves to create the iterables for a 2 fold cross-validation.\n",
    "    Input: \n",
    "        idx_xs1: np array of shape [number of samples in fold]\n",
    "        idx_xs2: np array of shape [number of samples in fold]\n",
    "        upsampled_points: int, number of additional points that have been obtained by upsampling\n",
    "    Return:\n",
    "        cv: tuple of tuples, iterable containing the indices of data to perform the 2 fold cross validation'''\n",
    "    \n",
    "    train1_max_idx = idx_xs1.shape[0] + upsampled_points\n",
    "    test1_min_idx = train1_max_idx\n",
    "    test1_max_idx = test1_min_idx + idx_xs2.shape[0]\n",
    "    \n",
    "    train2_min_idx = test1_max_idx\n",
    "    train2_max_idx = train2_min_idx + idx_xs1.shape[0] + upsampled_points\n",
    "    test2_min_idx = train2_max_idx\n",
    "    test2_max_idx = test2_min_idx + idx_xs1.shape[0]\n",
    "\n",
    "    cv = ((np.arange(0, train1_max_idx).tolist(), np.arange(test1_min_idx, test1_max_idx).tolist()),\n",
    "          (np.arange(train2_min_idx, train2_max_idx).tolist(), np.arange(test2_min_idx, test2_max_idx).tolist()))\n",
    "    \n",
    "    return cv"
   ]
  },
  {
   "cell_type": "code",
   "execution_count": 63,
   "metadata": {},
   "outputs": [
    {
     "name": "stdout",
     "output_type": "stream",
     "text": [
      "(250, 184)\n",
      "(250, 184)\n"
     ]
    }
   ],
   "source": [
    "#Augmentation for PCA\n",
    "# Full pipeline\n",
    "\n",
    "def get_data_for_cross_val_pca(X, y, augment=False, augment_percent=0.2):\n",
    "    '''This fucntion serves to obtain the data to perform 2 fold cross validation ie: the features,\n",
    "    labels, and cv validation iterable. It randomly selects half of each of the dataset and performs \n",
    "    augmentation (if required) on the training sets only.\n",
    "    Input:\n",
    "        X: np array containing the full train/validation set features of shape [samples, features]\n",
    "        y: np array containing the full train/validation set labels of shape [samples, labels]\n",
    "        features: string to specify if all the features are used, or only the reduced set\n",
    "        augment: boolean informing if augemtation via upsampling is made\n",
    "        augment_percent: float, percent by which the samples are increased\n",
    "    Return:\n",
    "        X_total: np array of the total samples (with augmentation or not) of shape [samples with augm, features]\n",
    "        y_total: np array of the labels corrsponding with X_total [samples with augm, features]\n",
    "        cv: tuple of tuple containing the indices for each fold of the cross validation.'''\n",
    "    \n",
    "    # Sparating the datapoints\n",
    "    idx_xs1 = np.random.choice(X.shape[0], int(X.shape[0]/2), replace=False)\n",
    "    idx_xs2 = np.setdiff1d(np.arange(X.shape[0]), idx_xs1)\n",
    "    \n",
    "    X_set1, y_set1 = X[idx_xs1,:], y[idx_xs1]\n",
    "    X_set2, y_set2 = X[idx_xs2,:], y[idx_xs2]\n",
    "    \n",
    "    # augmenting the data\n",
    "    if augment:\n",
    "        X_set1, y_set1, upsampled_points, probs = _augment_data(X_set1, y_set1, augment_percent)\n",
    "        X_set2, y_set2, upsampled_points, probs = _augment_data(X_set2, y_set2, augment_percent)\n",
    "    else:\n",
    "        upsampled_points = 0\n",
    "\n",
    "    # Concatenating the features\n",
    "    X_total = np.concatenate((X_set1, X_set2), axis=0)\n",
    "    y_total = np.concatenate((y_set1, y_set2), axis=0)\n",
    "    \n",
    "    # Getting the PCA data -- ensuring that the training is fited and validation solely transformed\n",
    "    X_set1_fit, X_set2_trans = get_pca(X_total[0:250+upsampled_points], \n",
    "                                       X_total[250+upsampled_points: 500+upsampled_points])\n",
    "    X_set2_fit, X_set1_trans = get_pca(X_total[250+upsampled_points: 500+2*upsampled_points], \n",
    "                                       X_total[0:250])\n",
    "    \n",
    "    y_set1_fit = y_total[0:250+upsampled_points]\n",
    "    y_set2_trans = y_total[250+upsampled_points: 500+upsampled_points]\n",
    "    y_set2_fit = y_total[250+upsampled_points: 500+2*upsampled_points]\n",
    "    y_set1_trans = y_total[0:250]\n",
    "    \n",
    "    X_total = np.concatenate((X_set1_fit, X_set2_trans, X_set2_fit, X_set1_trans), axis=0)\n",
    "    y_total = np.concatenate((y_set1_fit, y_set2_trans, y_set2_fit, y_set1_trans), axis=0)\n",
    "    \n",
    "    if augment:\n",
    "        cv = _get_cv_pca(idx_xs1, idx_xs2, upsampled_points)\n",
    "    else:\n",
    "        cv = _get_cv_pca(idx_xs1, idx_xs2, 0)\n",
    "\n",
    "    return X_total, y_total, cv\n",
    "\n",
    "X_pca, y_pca, cv = get_data_for_cross_val_pca(X, y, False)"
   ]
  },
  {
   "cell_type": "markdown",
   "metadata": {},
   "source": [
    "### Performing the Cross-Val Grid Search on the different regressors"
   ]
  },
  {
   "cell_type": "code",
   "execution_count": 72,
   "metadata": {},
   "outputs": [],
   "source": [
    "########################################\n",
    "# ADD YOUR CODE HERE\n",
    "# With the random forest architecture\n",
    "rf = RandomForestRegressor(bootstrap='True')\n",
    "parameters_rf = {'n_estimators':[100, 1000],\n",
    "                 'max_depth':[2, 5, 10],\n",
    "                 'min_samples_split':[2, 8]}#,'random_state':[666]}\n",
    "rf_grid = GridSearchCV(estimator=rf, param_grid=parameters_rf, cv=cv, scoring=scoring, refit='MAE')\n",
    "rf_grid.fit(X_pca, y_pca.ravel())\n",
    "# print(clf.best_estimator_)\n",
    "print(rf_grid.best_params_)\n",
    "print(rf_grid.best_score_)\n",
    "########################################"
   ]
  },
  {
   "cell_type": "code",
   "execution_count": 73,
   "metadata": {},
   "outputs": [],
   "source": [
    "# With SVM\n",
    "svm = SVR('linear')\n",
    "# parameters_svm = {'kernel':('linear', 'rbf'), 'C':[1, 10, 100]}\n",
    "parameters_svm = {'C':[1, 10, 20, 30, 50]}\n",
    "svm_grid = GridSearchCV(estimator=svm, param_grid=parameters_svm, cv=cv, scoring=scoring, refit='MAE')\n",
    "svm_grid.fit(X_pca, y_pca.ravel())\n",
    "print(svm_grid.best_params_)\n",
    "print(svm_grid.best_score_)"
   ]
  },
  {
   "cell_type": "code",
   "execution_count": null,
   "metadata": {},
   "outputs": [],
   "source": [
    "# With Adaboost\n",
    "ada = AdaBoostRegressor(random_state=None)\n",
    "parameters_ada = {'n_estimators':[50, 100, 500], \n",
    "                  'learning_rate':[0.5, 1, 1.5],\n",
    "                  'loss':('linear', 'square')\n",
    "                 }\n",
    "ada_grid = GridSearchCV(estimator=ada, param_grid=parameters_ada, cv=cv, scoring=scoring, refit='MAE')\n",
    "ada_grid.fit(X_pca, y_pca.ravel())\n",
    "print(ada_grid.best_params_)\n",
    "print(ada_grid.best_score_)"
   ]
  },
  {
   "cell_type": "code",
   "execution_count": null,
   "metadata": {},
   "outputs": [],
   "source": [
    "# With RIDGE linear regression\n",
    "lin = linear_model.Ridge()\n",
    "parameters_lin = {'alpha':[0, 0.5, 1, 1.5, 2, 2.5]}\n",
    "lin_grid = GridSearchCV(estimator=lin, param_grid=parameters_lin, cv=cv, scoring=scoring, refit='MAE')\n",
    "lin_grid.fit(X_pca, y_pca.ravel())\n",
    "print(lin_grid.best_params_)\n",
    "print(lin_grid.best_score_)"
   ]
  },
  {
   "cell_type": "markdown",
   "metadata": {},
   "source": [
    "### Comparing the best of each regressor"
   ]
  },
  {
   "cell_type": "code",
   "execution_count": 66,
   "metadata": {},
   "outputs": [],
   "source": [
    "## With the best model for each of the regressors\n",
    "## This is done to provide plots for the report, comparing the MAE and the r2 score\n",
    "\n",
    "from sklearn import model_selection\n",
    "\n",
    "models = []\n",
    "models.append(('RF', RandomForestRegressor(bootstrap='True', max_depth=10, \n",
    "                                           n_estimators=1000, min_samples_split=2)))\n",
    "models.append(('SVM', SVR(kernel='linear', C=1)))\n",
    "models.append(('Ridge', linear_model.Ridge(alpha=2.5)))\n",
    "models.append(('AdaBoost', AdaBoostRegressor(**{'learning_rate': 1.5, 'loss': 'square', 'n_estimators': 500})))\n",
    "\n",
    "results_mae = []\n",
    "names_mae = []\n",
    "scoring_mae = 'neg_mean_absolute_error'\n",
    "results_r2 = []\n",
    "names_r2 = []\n",
    "scoring_r2 = 'r2'\n",
    "\n",
    "for name, model in models:\n",
    "    cv_results = model_selection.cross_val_score(model, X_pca, y_pca.ravel(), cv=cv, scoring=scoring['MAE'])\n",
    "    results_mae.append(-cv_results)\n",
    "    names_mae.append(name)\n",
    "    msg = \"%s: %f (%f)\" % (name, cv_results.mean(), cv_results.std())\n",
    "    print(msg)\n",
    "# boxplot algorithm comparison\n",
    "fig = plt.figure()\n",
    "fig.suptitle('Perfromance Comparison')\n",
    "ax = fig.add_subplot(111)\n",
    "# plt.boxplot(results_mae)\n",
    "results_mae = np.array(results_mae)\n",
    "data = pd.DataFrame(results_mae.T)\n",
    "data.rename(columns={0:names_mae[0], 1: names_mae[1], \n",
    "                     2:names_mae[2], 3:names_mae[3]}, inplace = True)\n",
    "# ax.set_xticklabels(names_mae)\n",
    "sns.boxplot(data=data)\n",
    "plt.ylabel('MAE')\n",
    "plt.show()\n",
    "plt.figure()\n",
    "\n",
    "for name, model in models:\n",
    "    cv_results = model_selection.cross_val_score(model, X_pca, y_pca.ravel(), cv=cv, scoring=scoring['r2'])\n",
    "    results_r2.append(cv_results)\n",
    "    names_r2.append(name)\n",
    "    msg = \"%s: %f (%f)\" % (name, cv_results.mean(), cv_results.std())\n",
    "    print(msg)\n",
    "# boxplot algorithm comparison\n",
    "fig = plt.figure()\n",
    "fig.suptitle('Perfromance Comparison')\n",
    "ax = fig.add_subplot(111)\n",
    "# plt.boxplot(results_r2)\n",
    "results_r2 = np.array(results_r2)\n",
    "data_r2 = pd.DataFrame(results_r2.T)\n",
    "data_r2.rename(columns={0:names_mae[0], 1: names_mae[1], \n",
    "               2:names_mae[2], 3:names_mae[3]}, inplace = True)\n",
    "sns.boxplot(data=data_r2)\n",
    "plt.ylabel('r2 score')\n",
    "plt.show()"
   ]
  },
  {
   "cell_type": "markdown",
   "metadata": {},
   "source": [
    "### Test performance with PCA features"
   ]
  },
  {
   "cell_type": "markdown",
   "metadata": {},
   "source": [
    "Error calculation and plotting"
   ]
  },
  {
   "cell_type": "code",
   "execution_count": 64,
   "metadata": {},
   "outputs": [
    {
     "name": "stdout",
     "output_type": "stream",
     "text": [
      "(500, 13068) (100, 13068)\n",
      "(500, 184)\n",
      "(500, 184) (100, 184)\n",
      "mean absolute error: 5.210612874763331\n",
      "r2 score: 0.9035958505464725\n",
      "mse: 36.455605092034304\n"
     ]
    },
    {
     "data": {
      "image/png": "[encoded data removed]",
      "text/plain": [
       "<Figure size 432x288 with 1 Axes>"
      ]
     },
     "metadata": {
      "needs_background": "light"
     },
     "output_type": "display_data"
    }
   ],
   "source": [
    "# final_model = RandomForestRegressor(bootstrap='True', max_depth=5, \n",
    "#                                     n_estimators=500, min_samples_split=8)\n",
    "import matplotlib.pyplot as plt\n",
    "plt.rcParams.update({'font.size': 10})\n",
    "final_model = SVR(kernel='linear', C=10)\n",
    "final_model = linear_model.Ridge(alpha=0)\n",
    "\n",
    "# final data\n",
    "augment=False\n",
    "\n",
    "X_train_val = X\n",
    "X_testing = X_test_pca\n",
    "y_train_val = y\n",
    "\n",
    "if augment:\n",
    "    X_train_val, y_train_val, up_points, _ = _augment_data(X_train_val, y_train_val, 0.1)\n",
    "else:\n",
    "    y_train_val = y_trainval\n",
    "\n",
    "print(X_train_val.shape, X_testing.shape)\n",
    "X_train_val, X_testing = get_pca(X_train_val, X_testing)    \n",
    "print(X_train_val.shape, X_testing.shape)\n",
    "# Test\n",
    "final_model.fit(X_train_val, y_train_val.ravel())\n",
    "predictions = final_model.predict(X_testing)\n",
    "print('mean absolute error: {0}'.format(mean_absolute_error(y_test_pca, predictions)))\n",
    "print('r2 score: {0}'.format(r2_score(y_test_pca, predictions)))\n",
    "print('mse: {}'.format(mean_squared_error(y_test_pca, predictions, squared=True)))\n",
    "fig, ax = plt.subplots()\n",
    "ax.scatter(y_test, predictions, marker='.')\n",
    "ax.plot([y_train_val.min(), y_train_val.max()], [y_train_val.min(), y_train_val.max()], 'k--', lw=2)\n",
    "ax.set_xlabel('Real Age')\n",
    "ax.set_ylabel('Predicted Age')\n",
    "plt.show()"
   ]
  },
  {
   "cell_type": "markdown",
   "metadata": {},
   "source": [
    "## Part C: CNN-based regression using grey matter maps\n",
    "\n",
    "The third approach is similar in nature to the second approach in task B, but instead of using PCA for dimensionality reduction in order to use a more classical regression model, now we will use convolutional neural networks (CNNs) on the grey matter maps for predicting the subject's age directly.\n",
    "\n",
    "You will need to implement a CNN model that takes a grey matter map as an input and maps it to a one-dimensional, real-valued output. A good starting point may be a LeNet-type architecture and adapt the last layers to convert the classification into a regression network. You should have all the necessary ingredients now from above tasks and the notebooks from the lab tutorials for how to set up a CNN model in PyTorch, how to implement a suitable training and testing routine, and how to run a two-fold cross-validation on the 500 subjects similar to tasks A and B.\n",
    "\n",
    "*Note:* For part C, only the spatially normalised grey matter maps should be used. Similar to task A, you may want to set up a configuration for the CNN training that may also involve some resampling of the input data."
   ]
  },
  {
   "cell_type": "code",
   "execution_count": 12,
   "metadata": {},
   "outputs": [
    {
     "name": "stdout",
     "output_type": "stream",
     "text": [
      "Number of available GPUs are = 1\n",
      "Device: cuda:0\n",
      "GPU: Tesla K80\n"
     ]
    }
   ],
   "source": [
    "import os\n",
    "import torch\n",
    "import torch.nn as nn\n",
    "import torch.nn.functional as F\n",
    "from torch.utils.data import Dataset, DataLoader\n",
    "from tqdm import tqdm\n",
    "import torch.optim as optim\n",
    "\n",
    "import pandas as pd\n",
    "import numpy as np\n",
    "\n",
    "data_dir = '../data/brain_age/'\n",
    "\n",
    "## Getting the extra data/upsamlping\n",
    "def augment_dataloader(dataset, augmentation):\n",
    "    \n",
    "    '''This fucntion serves to augment the data according to the inverse \n",
    "    probability distribution function in order to perfrom upsampling of the\n",
    "    imbalanced age groups.\n",
    "    Input: \n",
    "        features: list\n",
    "        labels: list\n",
    "        augmentation: float, %in data aumentation required\n",
    "        upsampled_points: number of points added to the dataset'''\n",
    "    \n",
    "    features = [i['img'].to('cpu') for i in dataset]\n",
    "    labels = [i['age'] for i in dataset]\n",
    "    \n",
    "    im_sz = list(features[0][0].shape)\n",
    "    \n",
    "    n, bins, patches = plt.hist(labels, 30, density=True, alpha=0.75)\n",
    "    prob_dist = torch.from_numpy(np.ones(len(n)))-n*50\n",
    "    prob_dist = prob_dist/sum(prob_dist)\n",
    "    probs = torch.from_numpy(np.ones(len(labels)))\n",
    "    \n",
    "    # distriubute the probas according to the ages\n",
    "    for idx in range(len(bins)-1):\n",
    "        probs[(labels >= bins[idx])&(labels <=bins[idx+1])] = 1*prob_dist[idx]\n",
    "    scaled_probs = probs/sum(probs)\n",
    "    scaled_probs = torch.clamp(scaled_probs,0,1)\n",
    "    scaled_probs = scaled_probs**2/sum(scaled_probs**2)\n",
    "\n",
    "    upsampled_points = int(augmentation*len(features))\n",
    "    idxs = torch.from_numpy(np.random.choice(len(labels), p=scaled_probs, size = upsampled_points))\n",
    "    X_augmentation = torch.from_numpy(np.zeros(shape=([len(idxs)] + [1] + im_sz)))\n",
    "    y_augmentation = torch.from_numpy(np.zeros(len(idxs)))\n",
    "   \n",
    "     # Adding noise propotrional to that of the resampling probability and standard deviation of the features\n",
    "    for i, value in enumerate(idxs):\n",
    "        std_feature = torch.std(features[value][0]).item()\n",
    "        X_augmentation[i] = features[value] + torch.from_numpy(np.random.normal(0,\n",
    "                                                           std_feature*5*scaled_probs[value],\n",
    "                                                           size = features[value].shape))\n",
    "        y_augmentation[i] = labels[value]\n",
    "        \n",
    "    X_augmentation = torch.clamp(X_augmentation,0,1)\n",
    "    X_augmentation[X_augmentation < 0.05] = 0\n",
    "    \n",
    "    y_total=np.concatenate((labels, y_augmentation), axis=0)\n",
    "    X_total=features + list(X_augmentation)\n",
    "    tuple_set = (X_total, y_total)\n",
    "    \n",
    "    n, bins, patches = plt.hist(y_total, 30, density=True, alpha=0.75)\n",
    "    prob_dist = np.ones(len(n))-n*50\n",
    "    prob_dist = prob_dist/sum(prob_dist)\n",
    "    probs = np.ones(len(labels))\n",
    "    \n",
    "    dset = []\n",
    "    for i in range(len(features)+upsampled_points):\n",
    "        dset.append({'img':X_total[i].float(), 'age':int(y_total[i])})\n",
    "    \n",
    "    return dset\n",
    "\n",
    "# Class supports dataloader\n",
    "class ImageRegDataset(Dataset):\n",
    "    \"\"\"Dataset for image regression.\"\"\"\n",
    "\n",
    "    def __init__(self, augmented_dset):\n",
    "        self.samples = []\n",
    "\n",
    "        for idx, _ in enumerate(tqdm(range(len(augmented_dset)), desc='Loading Data')):\n",
    "\n",
    "            img = augmented_dset[idx]['img']\n",
    "\n",
    "            age = augmented_dset[idx]['age']\n",
    "\n",
    "            sample = {'img': img, 'age': age}\n",
    "\n",
    "            self.samples.append(sample)\n",
    "  \n",
    "    def __len__(self):\n",
    "        return len(self.samples)\n",
    "\n",
    "    def __getitem__(self, item):\n",
    "        sample = self.samples[item]\n",
    "\n",
    "        image = sample['img']\n",
    "        age = sample['age']\n",
    "\n",
    "        return {'img': image, 'age': age}\n",
    "\n",
    "    def get_sample(self, item):\n",
    "        return self.samples[item]\n",
    "\n",
    "    def get_img_name(self, item):\n",
    "        return self.img_names[item]\n",
    "\n",
    "    def get_seg_name(self, item):\n",
    "        return self.seg_names[item]\n",
    "\n",
    "cuda_dev = '0' #GPU device 0 (can be changed if multiple GPUs are available)\n",
    "\n",
    "print('Number of available GPUs are = {}'.format(torch.cuda.device_count()))\n",
    "\n",
    "use_cuda = torch.cuda.is_available()\n",
    "device = torch.device(\"cuda:\" + cuda_dev if use_cuda else \"cpu\")\n",
    "\n",
    "print('Device: ' + str(device))\n",
    "if use_cuda:\n",
    "    print('GPU: ' + str(torch.cuda.get_device_name(int(cuda_dev))))    \n",
    "\n",
    "rnd_seed = 42 #fixed random seed\n",
    "\n",
    "img_size = [76, 98, 88]\n",
    "img_spacing = [2, 2, 2]\n",
    "\n",
    "num_epochs = 30\n",
    "num_save_epochs = 50\n",
    "\n",
    "learning_rate = 2e-4\n",
    "batch_size = 16\n",
    "val_interval = 4 # Validation Interval\n",
    "\n",
    "num_classes = 1\n",
    "\n",
    "out_dir = './output'\n",
    "\n",
    "# Create output directory\n",
    "if not os.path.exists(out_dir):\n",
    "    os.makedirs(out_dir)"
   ]
  },
  {
   "cell_type": "code",
   "execution_count": 15,
   "metadata": {
    "scrolled": true
   },
   "outputs": [
    {
     "name": "stdout",
     "output_type": "stream",
     "text": [
      "TRAIN\t500\n",
      "TEST\t100\n"
     ]
    }
   ],
   "source": [
    "class RegressionWMDataset(Dataset):\n",
    "    \"\"\"Dataset for image segmentation and regression.\"\"\"\n",
    "\n",
    "    def __init__(self, file_list_img, img_spacing, img_size, age_data):\n",
    "        self.samples = []\n",
    "        self.img_names = []\n",
    "        \n",
    "        for idx, _ in enumerate(tqdm(range(len(file_list_gm)), desc='Loading Data')):\n",
    "            img_path = file_list_img[idx]\n",
    "            \n",
    "            img = sitk.ReadImage(img_path, sitk.sitkFloat32)\n",
    "            #pre=processing\n",
    "            img = resample_image(img, img_spacing, img_size, is_label=False)\n",
    "            age = age_data[idx]\n",
    "            \n",
    "            sample = {'img': img, 'age':age}\n",
    "            self.samples.append(sample)\n",
    "            self.img_names.append(os.path.basename(img_path))\n",
    "\n",
    "    def __len__(self):\n",
    "        return len(self.samples)\n",
    "\n",
    "    def __getitem__(self, item):\n",
    "        \n",
    "        sample = self.samples[item]\n",
    "\n",
    "        if isinstance(sample['img'], torch.Tensor):\n",
    "            image = sample['img']\n",
    "        else:\n",
    "            image = torch.from_numpy(sitk.GetArrayFromImage(sample['img'])).to(device).unsqueeze(0)\n",
    "        age = sample['age']\n",
    "        \n",
    "        return {'img': image, 'age' : age}\n",
    "\n",
    "    def get_sample(self, item):\n",
    "        return self.samples[item]\n",
    "\n",
    "    def get_img_name(self, item):\n",
    "        return self.img_names[item]\n",
    "\n",
    "    def get_seg_name(self, item):\n",
    "        return self.seg_names[item]\n",
    "\n",
    "    \n",
    "bAugment = False\n",
    "bCrVal = False\n",
    "augment = 0.2\n",
    "\n",
    "if bCrVal:\n",
    "    # Train / val split\n",
    "    meta_data_reg = pd.read_csv(data_dir + 'meta/meta_data_reg_train.csv')\n",
    "    meta_data_reg_train = meta_data_reg.sample(n=int(len(meta_data_reg)/2))\n",
    "    meta_data_reg_val = meta_data_reg.loc[~ meta_data_reg.index.isin(meta_data_reg_train.index)]\n",
    "\n",
    "    # Train loader without upsampling\n",
    "    ids_data = list(meta_data_reg_train['subject_id'])\n",
    "    age_data = list(meta_data_reg_train['age'])\n",
    "    file_list_gm = [data_dir + 'greymatter/wc1sub-' + f + '_T1w.nii.gz' for f in ids_data]\n",
    "    # dataset_train_reg = upsample(RegressionWMDataset(file_list_gm, img_spacing, img_size, age_data))\n",
    "    dataset_train_reg = RegressionWMDataset(file_list_gm, img_spacing, img_size, age_data)\n",
    "    dataloader_train_reg = torch.utils.data.DataLoader(dataset_train_reg, batch_size=batch_size, shuffle=True)\n",
    "\n",
    "    # Val loader\n",
    "    ids_data = list(meta_data_reg_val['subject_id'])\n",
    "    age_data = list(meta_data_reg_val['age'])\n",
    "    file_list_gm = [data_dir + 'greymatter/wc1sub-' + f + '_T1w.nii.gz' for f in ids_data]\n",
    "    dataset_val_reg = RegressionWMDataset(file_list_gm, img_spacing, img_size, age_data)\n",
    "    dataloader_val_reg = torch.utils.data.DataLoader(dataset_val_reg, batch_size=batch_size, shuffle=True)\n",
    "\n",
    "else:\n",
    "    meta_data_train_reg = pd.read_csv(data_dir + 'meta/meta_data_reg_train.csv')\n",
    "    ids_data = list(meta_data_train_reg['subject_id'])\n",
    "    age_data = list(meta_data_train_reg['age'])\n",
    "    file_list_gm = [data_dir + 'greymatter/wc1sub-' + f + '_T1w.nii.gz' for f in ids_data]\n",
    "    dataset_full_train_reg = RegressionWMDataset(file_list_gm, img_spacing, img_size, age_data)\n",
    "    if bAugment:\n",
    "        aug_dataset_full_train_reg = augment_dataloader(dataset_full_train_reg, augment)\n",
    "        dsetimg = ImageRegDataset(aug_dataset_full_train_reg)\n",
    "        dataloader_train_reg = torch.utils.data.DataLoader(dsetimg, batch_size=batch_size, shuffle=True)\n",
    "    else: \n",
    "        dataloader_train_reg = torch.utils.data.DataLoader(dataset_full_train_reg, batch_size=batch_size, shuffle=True)\n",
    "\n",
    "# Test loader\n",
    "meta_data_test_reg = pd.read_csv(data_dir + 'meta/meta_data_reg_test.csv')\n",
    "ids_data = list(meta_data_test_reg['subject_id'])\n",
    "age_data = list(meta_data_test_reg['age'])\n",
    "file_list_gm = [data_dir + 'greymatter/wc1sub-' + f + '_T1w.nii.gz' for f in ids_data]\n",
    "dataset_full_test_reg = RegressionWMDataset(file_list_gm, img_spacing, img_size, age_data)\n",
    "dataloader_test_reg = torch.utils.data.DataLoader(dataset_full_test_reg, batch_size=batch_size, shuffle=True)\n",
    "\n",
    "print(\"TRAIN\\t\" + str(dataset_full_train_reg.__len__()))\n",
    "print(\"TEST\\t\" + str(dataset_full_test_reg.__len__()))"
   ]
  },
  {
   "cell_type": "code",
   "execution_count": 16,
   "metadata": {},
   "outputs": [
    {
     "data": {
      "image/png": "[encoded data removed]",
      "text/plain": [
       "<Figure size 720x288 with 3 Axes>"
      ]
     },
     "metadata": {
      "needs_background": "light"
     },
     "output_type": "display_data"
    },
    {
     "data": {
      "image/png": "[encoded data removed]",
      "text/plain": [
       "<Figure size 720x288 with 3 Axes>"
      ]
     },
     "metadata": {
      "needs_background": "light"
     },
     "output_type": "display_data"
    }
   ],
   "source": [
    "display_image(dataset_full_train_reg.get_sample(0)['img'])\n",
    "display_image(dataset_full_test_reg.get_sample(1)['img'])"
   ]
  },
  {
   "cell_type": "code",
   "execution_count": 17,
   "metadata": {},
   "outputs": [],
   "source": [
    "#########################\n",
    "# REGRESSION MODEL HERE #\n",
    "#########################\n",
    "\n",
    "class ModelBlock(nn.Module): \n",
    "    def __init__(self, block):\n",
    "        super(ModelBlock, self).__init__() \n",
    "        self.block = nn.Sequential(*block)\n",
    "    \n",
    "    def forward(self, x): \n",
    "        out = self.block(x) \n",
    "        return out\n",
    "\n",
    "class ResBlock(nn.Module): \n",
    "    def __init__(self, in_channel, out_channel, kernel_size = 3, stride=1): \n",
    "        \n",
    "        super(ResBlock, self).__init__() \n",
    "        \n",
    "        self.left = nn.Sequential(nn.Conv3d(in_channel, out_channel, \n",
    "                                            kernel_size=kernel_size, stride=stride, \n",
    "                                            padding=1, bias=False), \n",
    "                                  nn.BatchNorm3d(out_channel), \n",
    "                                  nn.ReLU(inplace=True), \n",
    "                                  \n",
    "                                  nn.Conv3d(out_channel, out_channel, \n",
    "                                            kernel_size=kernel_size, stride=1, \n",
    "                                            padding=1, bias=False), \n",
    "                                  nn.BatchNorm3d(out_channel))\n",
    "        \n",
    "        self.shortcut = nn.Sequential() \n",
    "        \n",
    "        if stride != 1 or in_channel != out_channel: \n",
    "            \n",
    "            self.shortcut = nn.Sequential(nn.Conv3d(in_channel, out_channel, \n",
    "                                                 kernel_size=1, stride=stride, \n",
    "                                                 padding = 0, bias=False), \n",
    "                                          nn.BatchNorm3d(out_channel))\n",
    "                                          \n",
    "    def forward(self, x): \n",
    "        out = self.left(x)\n",
    "        out += self.shortcut(x) \n",
    "        out = F.relu(out) \n",
    "        return out\n",
    "\n",
    "\n",
    "class ResidualNet3D_Regression(nn.Module):\n",
    "\n",
    "    def __init__(self, ResBlock, ModelBlock, dp = 0.2):\n",
    "        super(ResidualNet3D_Regression, self).__init__()\n",
    "        \n",
    "        self.dp = dp\n",
    "        f = 2\n",
    "        self.in_channel = int(8*f)\n",
    "        self.fc_in_features = 64\n",
    "        \n",
    "        self.conv1 = nn.Sequential(nn.Conv3d(1, self.in_channel, kernel_size = 3, stride = 1,\n",
    "                                            padding = 1, bias = False), \n",
    "                                  nn.BatchNorm3d(self.in_channel),\n",
    "                                  nn.ReLU(inplace = True),\n",
    "                                  )\n",
    "        \n",
    "        self.layer1 = self.make_layer(ResBlock, num_blocks = 2, out_channel = int(16*f), stride = 2)\n",
    "        self.layer2 = self.make_layer(ResBlock, num_blocks = 1, out_channel = int(32*f), stride = 2)\n",
    "        self.layer3 = self.make_layer(ResBlock, num_blocks = 1, out_channel = int(48*f), stride = 2)\n",
    "        self.layer4 = self.make_layer(ResBlock, num_blocks = 1, out_channel = int(32*f), stride = 2)\n",
    "        self.layer5 = self.make_layer(ResBlock, num_blocks = 2, out_channel = int(16*f), stride = 2)\n",
    "        \n",
    "        # USED FOR REGRESSION TASK\n",
    "        self.maxpool = nn.MaxPool3d(2)\n",
    "        self.fc = self.make_fc([28],1)\n",
    "                                  \n",
    "    def make_layer(self, block, num_blocks, out_channel, stride):\n",
    "        strides = [stride] + [1] * (num_blocks - 1)\n",
    "        layers = []\n",
    "        \n",
    "        for stride in strides:\n",
    "            layers.append(ResBlock(self.in_channel, out_channel, stride = stride))\n",
    "            self.in_channel = out_channel \n",
    "            \n",
    "        return nn.Sequential(*layers)\n",
    "    \n",
    "    # USED FOR CLASSIFICATION TASK\n",
    "    def make_fc(self, hidden_layers, num_classes):\n",
    "        \n",
    "        layers = []\n",
    "        fc_layers = hidden_layers + [num_classes]\n",
    "        in_features = self.fc_in_features\n",
    "        \n",
    "        for hl in fc_layers:\n",
    "            if hl is fc_layers[-1]:\n",
    "                # We do not want ReLU in the output\n",
    "                block = [nn.Linear(in_features,hl, \n",
    "                                   bias = True)]\n",
    "            else:\n",
    "                print(in_features, hl)\n",
    "                block = [nn.Linear(in_features,hl, \n",
    "                                   bias = True), \n",
    "                         nn.ReLU(inplace = True),\n",
    "                         nn.Dropout(self.dp)]\n",
    "                \n",
    "            module_block = ModelBlock(block)\n",
    "            layers.append(module_block)\n",
    "            in_features = hl\n",
    "            \n",
    "        return nn.Sequential(*layers)\n",
    "                                  \n",
    "    def forward(self, x):\n",
    "        x = F.relu(self.conv1(x))\n",
    "        x = F.relu(self.layer1(x))\n",
    "        x = F.relu(self.layer2(x))\n",
    "        x = F.relu(self.layer3(x))\n",
    "        x = F.relu(self.layer4(x))\n",
    "        x = F.relu(self.layer5(x))\n",
    "        \n",
    "        # THIS IS FOR REGRESSION\n",
    "        x = self.maxpool(x)\n",
    "        x = x.view(-1,self.fc_in_features)\n",
    "        x = self.fc(x)\n",
    "        return x   \n",
    "\n",
    "torch.manual_seed(rnd_seed) #fix random seed\n",
    "\n",
    "model_dir_reg = os.path.join(out_dir, 'model_reg')\n",
    "if not os.path.exists(model_dir_reg):\n",
    "    os.makedirs(model_dir_reg)\n",
    "\n",
    "def weights_init(m):\n",
    "    classname = m.__class__.__name__\n",
    "    if classname.find('Conv') != -1:\n",
    "        torch.nn.init.kaiming_normal_(m.weight)\n",
    "        if m.bias is not None:\n",
    "            torch.nn.init.zeros_(m.bias)\n",
    "    elif classname.find('BatchNorm') != -1:\n",
    "        m.weight.data.normal_(1.0, 0.02)\n",
    "        m.bias.data.fill_(0)\n",
    "    elif isinstance(m, torch.nn.Linear):\n",
    "        torch.nn.init.xavier_uniform_(m.weight)\n",
    "        torch.nn.init.zeros_(m.bias)"
   ]
  },
  {
   "cell_type": "code",
   "execution_count": 18,
   "metadata": {},
   "outputs": [],
   "source": [
    "def cross_val_reg(dataset_train_reg, dataset_val_reg, augment = 0.2, bSave = True):\n",
    "    \n",
    "    \"\"\"Cross validation function. \n",
    "    INPUTS: - dataset_train_reg first fold of cross_validation_dataset, type: list(dictionary{'img','age'})\n",
    "            - dataset_val_reg second fold of cross_validation_dataset, \" \"\n",
    "            - augment : augmentation scale for resampling\n",
    "            - bSave: boolean to save models\n",
    "    OUTPUTS: - loss_train_log, loss_val_log, MAE_val_log, MAE_train_log, epoch_val_log\n",
    "    \"\"\"\n",
    "    \n",
    "    loss_train_log = {'train':[],'val':[]}\n",
    "    loss_val_log = {'train':[],'val':[]}\n",
    "    MAE_train_log = {'train':[],'val':[]}\n",
    "    MAE_val_log = {'train':[],'val':[]}\n",
    "    epoch_val_log = {'train':[],'val':[]}\n",
    "\n",
    "    for cv_fold in range(1,3):\n",
    "        \n",
    "        model_reg = ResidualNet3D_Regression(ResBlock, ModelBlock, dp = 0.4).to(device)\n",
    "        model_reg.apply(weights_init)\n",
    "        params_net = sum(p.numel() for p in model_reg.parameters() if p.requires_grad)\n",
    "        print(\"Total number of parameters in Model is: {}\".format(params_net))\n",
    "        print(model_reg)\n",
    "\n",
    "        optimizer = torch.optim.Adam(model_reg.parameters(), lr=learning_rate, betas=(0.9, 0.999))\n",
    "        scheduler = optim.lr_scheduler.StepLR(optimizer, step_size = 5, gamma = 0.95)\n",
    "        \n",
    "        if cv_fold is 1:\n",
    "            save_string = 'train'\n",
    "            \n",
    "            if augment is not 0:\n",
    "                tmp_dataset_train_reg = augment_dataloader(dataset_train_reg, augment)\n",
    "                tmp_dataset_train_reg = ImageRegDataset(tmp_dataset_train_reg)\n",
    "            dataloader_train_reg = torch.utils.data.DataLoader(tmp_dataset_train_reg, batch_size=batch_size, shuffle=True)\n",
    "            dataloader_val_reg = torch.utils.data.DataLoader(dataset_val_reg, batch_size=batch_size, shuffle=True)\n",
    "            \n",
    "            dataloader_train = dataloader_train_reg\n",
    "            dataloader_val = dataloader_val_reg\n",
    "            color = 'r'\n",
    "            \n",
    "        elif cv_fold is 2:\n",
    "            save_string = 'val'\n",
    "            \n",
    "            if augment is not 0:\n",
    "                tmp_dataset_val_reg = augment_dataloader(dataset_val_reg, augment)\n",
    "                tmp_dataset_val_reg = ImageRegDataset(dataset_val_reg)\n",
    "            dataloader_train_reg = torch.utils.data.DataLoader(tmp_dataset_val_reg, batch_size=batch_size, shuffle=True)\n",
    "            dataloader_val_reg = torch.utils.data.DataLoader(dataset_train_reg, batch_size=batch_size, shuffle=True)\n",
    "            \n",
    "            dataloader_train = dataloader_train_reg\n",
    "            dataloader_val = dataloader_val_reg\n",
    "            color = 'b'\n",
    "            \n",
    "        else:\n",
    "            print('WRONG FOLDS')\n",
    "            break\n",
    "        \n",
    "        print('START TRAINING ON FOLD {}...'.format(save_string))\n",
    "        for epoch in range(1, num_epochs + 1):\n",
    "            model_reg.train()\n",
    "            tmploss = 0\n",
    "            AE = 0\n",
    "            # Training\n",
    "            for batch_idx, batch_samples in enumerate(dataloader_train):\n",
    "                img, age = batch_samples['img'].to(device), batch_samples['age'].to(device)\n",
    "                optimizer.zero_grad()\n",
    "                prd = model_reg(img)\n",
    "                age = age.view(-1,1).float()\n",
    "                loss = F.mse_loss(prd, age)\n",
    "                \n",
    "                tmploss += loss.detach().item()\n",
    "                AE += torch.sum(torch.abs(age - prd)).item()\n",
    "                \n",
    "                loss.backward()\n",
    "                optimizer.step()\n",
    "\n",
    "            MAE = AE/len(dataloader_train.dataset.samples)\n",
    "            loss_train_log[save_string].append(tmploss/len(dataloader_train.dataset.dataset.samples))\n",
    "            MAE_train_log[save_string].append(MAE)\n",
    "\n",
    "            print('+ TRAINING \\tEpoch: {} \\tLoss: {:.6f}'.format(epoch, tmploss/len(dataloader_train.dataset.samples)))\n",
    "\n",
    "            # Validation\n",
    "            if epoch == 1 or epoch % val_interval == 0:\n",
    "                model_reg.eval()\n",
    "                loss_val = 0\n",
    "                AE = 0\n",
    "                with torch.no_grad():\n",
    "                    for batch_idx, batch_samples in enumerate(dataloader_val):\n",
    "                        img, age = batch_samples['img'].to(device), batch_samples['age'].to(device)\n",
    "                        prd = model_reg(img)\n",
    "                        age = age.view(-1,1).float()\n",
    "                        loss_val += F.mse_loss(prd, age)\n",
    "                        AE += torch.sum(torch.abs(age - prd)).item()\n",
    "\n",
    "                MAE = AE/len(dataloader_val.dataset.samples)\n",
    "                loss_val = loss_val/len(dataloader_val.dataset.samples)\n",
    "\n",
    "                loss_val_log[save_string].append(loss_val)\n",
    "                epoch_val_log[save_string].append(epoch)\n",
    "                MAE_val_log[save_string].append(MAE)\n",
    "\n",
    "                print('--------------------------------------------------')\n",
    "                print('+ VALIDATE \\tEpoch: {} \\tLoss: {:.6f}'.format(epoch, loss_val))\n",
    "                print('MAE\\t {}'.format(MAE))\n",
    "                print('--------------------------------------------------')\n",
    "\n",
    "            if epoch % num_save_epochs == 0 and bSave:\n",
    "                print('SAVING MODEL JUST IN CASE')\n",
    "                torch.save(model_reg.state_dict(), os.path.join(model_dir_reg, 'cv_model_reg_.pt'.format(save_string)))\n",
    "\n",
    "\n",
    "        print('\\nFinished TRAINING of fold {}'.format(cv_fold))\n",
    "        if bSave:\n",
    "            torch.save(model_reg.state_dict(), os.path.join(model_dir_reg, 'cv_model_reg_{}.pt'.format(save_string)))\n",
    "            print('FULL MODEL SAVED SUCCESSFULLY')\n",
    "\n",
    "        plt.plot(range(1, num_epochs + 1), loss_train_log[save_string], c=color, linestyle = '-',\n",
    "                 label='train_{}'.format(cv_fold))\n",
    "        plt.plot(epoch_val_log[save_string], loss_val_log[save_string], c=color, linestyle = '--',\n",
    "                 label='val_{}'.format(cv_fold))\n",
    "        plt.legend(loc='upper right')\n",
    "        plt.xlabel('epoch')\n",
    "        plt.ylabel('loss')\n",
    "        plt.show()\n",
    "    \n",
    "    return loss_train_log, loss_val_log, MAE_val_log, MAE_train_log, epoch_val_log"
   ]
  },
  {
   "cell_type": "code",
   "execution_count": 27,
   "metadata": {},
   "outputs": [
    {
     "name": "stdout",
     "output_type": "stream",
     "text": [
      "64 24\n",
      "Total number of parameters in Model is: 1113025\n",
      "ResidualNet3D_Regression(\n",
      "  (conv1): Sequential(\n",
      "    (0): Conv3d(1, 16, kernel_size=(3, 3, 3), stride=(1, 1, 1), padding=(1, 1, 1), bias=False)\n",
      "    (1): BatchNorm3d(16, eps=1e-05, momentum=0.1, affine=True, track_running_stats=True)\n",
      "    (2): ReLU(inplace=True)\n",
      "  )\n",
      "  (layer1): Sequential(\n",
      "    (0): ResBlock(\n",
      "      (left): Sequential(\n",
      "        (0): Conv3d(16, 32, kernel_size=(3, 3, 3), stride=(2, 2, 2), padding=(1, 1, 1), bias=False)\n",
      "        (1): BatchNorm3d(32, eps=1e-05, momentum=0.1, affine=True, track_running_stats=True)\n",
      "        (2): ReLU(inplace=True)\n",
      "        (3): Conv3d(32, 32, kernel_size=(3, 3, 3), stride=(1, 1, 1), padding=(1, 1, 1), bias=False)\n",
      "        (4): BatchNorm3d(32, eps=1e-05, momentum=0.1, affine=True, track_running_stats=True)\n",
      "      )\n",
      "      (shortcut): Sequential(\n",
      "        (0): Conv3d(16, 32, kernel_size=(1, 1, 1), stride=(2, 2, 2), bias=False)\n",
      "        (1): BatchNorm3d(32, eps=1e-05, momentum=0.1, affine=True, track_running_stats=True)\n",
      "      )\n",
      "    )\n",
      "    (1): ResBlock(\n",
      "      (left): Sequential(\n",
      "        (0): Conv3d(32, 32, kernel_size=(3, 3, 3), stride=(1, 1, 1), padding=(1, 1, 1), bias=False)\n",
      "        (1): BatchNorm3d(32, eps=1e-05, momentum=0.1, affine=True, track_running_stats=True)\n",
      "        (2): ReLU(inplace=True)\n",
      "        (3): Conv3d(32, 32, kernel_size=(3, 3, 3), stride=(1, 1, 1), padding=(1, 1, 1), bias=False)\n",
      "        (4): BatchNorm3d(32, eps=1e-05, momentum=0.1, affine=True, track_running_stats=True)\n",
      "      )\n",
      "      (shortcut): Sequential()\n",
      "    )\n",
      "  )\n",
      "  (layer2): Sequential(\n",
      "    (0): ResBlock(\n",
      "      (left): Sequential(\n",
      "        (0): Conv3d(32, 64, kernel_size=(3, 3, 3), stride=(2, 2, 2), padding=(1, 1, 1), bias=False)\n",
      "        (1): BatchNorm3d(64, eps=1e-05, momentum=0.1, affine=True, track_running_stats=True)\n",
      "        (2): ReLU(inplace=True)\n",
      "        (3): Conv3d(64, 64, kernel_size=(3, 3, 3), stride=(1, 1, 1), padding=(1, 1, 1), bias=False)\n",
      "        (4): BatchNorm3d(64, eps=1e-05, momentum=0.1, affine=True, track_running_stats=True)\n",
      "      )\n",
      "      (shortcut): Sequential(\n",
      "        (0): Conv3d(32, 64, kernel_size=(1, 1, 1), stride=(2, 2, 2), bias=False)\n",
      "        (1): BatchNorm3d(64, eps=1e-05, momentum=0.1, affine=True, track_running_stats=True)\n",
      "      )\n",
      "    )\n",
      "  )\n",
      "  (layer3): Sequential(\n",
      "    (0): ResBlock(\n",
      "      (left): Sequential(\n",
      "        (0): Conv3d(64, 96, kernel_size=(3, 3, 3), stride=(2, 2, 2), padding=(1, 1, 1), bias=False)\n",
      "        (1): BatchNorm3d(96, eps=1e-05, momentum=0.1, affine=True, track_running_stats=True)\n",
      "        (2): ReLU(inplace=True)\n",
      "        (3): Conv3d(96, 96, kernel_size=(3, 3, 3), stride=(1, 1, 1), padding=(1, 1, 1), bias=False)\n",
      "        (4): BatchNorm3d(96, eps=1e-05, momentum=0.1, affine=True, track_running_stats=True)\n",
      "      )\n",
      "      (shortcut): Sequential(\n",
      "        (0): Conv3d(64, 96, kernel_size=(1, 1, 1), stride=(2, 2, 2), bias=False)\n",
      "        (1): BatchNorm3d(96, eps=1e-05, momentum=0.1, affine=True, track_running_stats=True)\n",
      "      )\n",
      "    )\n",
      "  )\n",
      "  (layer4): Sequential(\n",
      "    (0): ResBlock(\n",
      "      (left): Sequential(\n",
      "        (0): Conv3d(96, 64, kernel_size=(3, 3, 3), stride=(2, 2, 2), padding=(1, 1, 1), bias=False)\n",
      "        (1): BatchNorm3d(64, eps=1e-05, momentum=0.1, affine=True, track_running_stats=True)\n",
      "        (2): ReLU(inplace=True)\n",
      "        (3): Conv3d(64, 64, kernel_size=(3, 3, 3), stride=(1, 1, 1), padding=(1, 1, 1), bias=False)\n",
      "        (4): BatchNorm3d(64, eps=1e-05, momentum=0.1, affine=True, track_running_stats=True)\n",
      "      )\n",
      "      (shortcut): Sequential(\n",
      "        (0): Conv3d(96, 64, kernel_size=(1, 1, 1), stride=(2, 2, 2), bias=False)\n",
      "        (1): BatchNorm3d(64, eps=1e-05, momentum=0.1, affine=True, track_running_stats=True)\n",
      "      )\n",
      "    )\n",
      "  )\n",
      "  (layer5): Sequential(\n",
      "    (0): ResBlock(\n",
      "      (left): Sequential(\n",
      "        (0): Conv3d(64, 32, kernel_size=(3, 3, 3), stride=(2, 2, 2), padding=(1, 1, 1), bias=False)\n",
      "        (1): BatchNorm3d(32, eps=1e-05, momentum=0.1, affine=True, track_running_stats=True)\n",
      "        (2): ReLU(inplace=True)\n",
      "        (3): Conv3d(32, 32, kernel_size=(3, 3, 3), stride=(1, 1, 1), padding=(1, 1, 1), bias=False)\n",
      "        (4): BatchNorm3d(32, eps=1e-05, momentum=0.1, affine=True, track_running_stats=True)\n",
      "      )\n",
      "      (shortcut): Sequential(\n",
      "        (0): Conv3d(64, 32, kernel_size=(1, 1, 1), stride=(2, 2, 2), bias=False)\n",
      "        (1): BatchNorm3d(32, eps=1e-05, momentum=0.1, affine=True, track_running_stats=True)\n",
      "      )\n",
      "    )\n",
      "    (1): ResBlock(\n",
      "      (left): Sequential(\n",
      "        (0): Conv3d(32, 32, kernel_size=(3, 3, 3), stride=(1, 1, 1), padding=(1, 1, 1), bias=False)\n",
      "        (1): BatchNorm3d(32, eps=1e-05, momentum=0.1, affine=True, track_running_stats=True)\n",
      "        (2): ReLU(inplace=True)\n",
      "        (3): Conv3d(32, 32, kernel_size=(3, 3, 3), stride=(1, 1, 1), padding=(1, 1, 1), bias=False)\n",
      "        (4): BatchNorm3d(32, eps=1e-05, momentum=0.1, affine=True, track_running_stats=True)\n",
      "      )\n",
      "      (shortcut): Sequential()\n",
      "    )\n",
      "  )\n",
      "  (maxpool): MaxPool3d(kernel_size=2, stride=2, padding=0, dilation=1, ceil_mode=False)\n",
      "  (fc): Sequential(\n",
      "    (0): ModelBlock(\n",
      "      (block): Sequential(\n",
      "        (0): Linear(in_features=64, out_features=24, bias=True)\n",
      "        (1): ReLU(inplace=True)\n",
      "        (2): Dropout(p=0.4, inplace=False)\n",
      "      )\n",
      "    )\n",
      "    (1): ModelBlock(\n",
      "      (block): Sequential(\n",
      "        (0): Linear(in_features=24, out_features=1, bias=True)\n",
      "      )\n",
      "    )\n",
      "  )\n",
      ")\n"
     ]
    },
    {
     "name": "stderr",
     "output_type": "stream",
     "text": [
      "\n",
      "Loading Data: 100%|██████████| 350/350 [00:00<00:00, 734370.39it/s]\n"
     ]
    },
    {
     "name": "stdout",
     "output_type": "stream",
     "text": [
      "START TRAINING ON FOLD train...\n",
      "+ TRAINING \tEpoch: 1 \tLoss: 112.146968\n",
      "--------------------------------------------------\n",
      "+ VALIDATE \tEpoch: 1 \tLoss: 62.835182\n",
      "MAE\t 27.147640502929686\n",
      "--------------------------------------------------\n",
      "+ TRAINING \tEpoch: 2 \tLoss: 35.215911\n",
      "+ TRAINING \tEpoch: 3 \tLoss: 22.355131\n",
      "+ TRAINING \tEpoch: 4 \tLoss: 21.748018\n",
      "--------------------------------------------------\n",
      "+ VALIDATE \tEpoch: 4 \tLoss: 5.089822\n",
      "MAE\t 7.146953857421875\n",
      "--------------------------------------------------\n",
      "+ TRAINING \tEpoch: 5 \tLoss: 19.916230\n",
      "+ TRAINING \tEpoch: 6 \tLoss: 18.222326\n",
      "+ TRAINING \tEpoch: 7 \tLoss: 18.716007\n",
      "+ TRAINING \tEpoch: 8 \tLoss: 17.567859\n",
      "--------------------------------------------------\n",
      "+ VALIDATE \tEpoch: 8 \tLoss: 16.750238\n",
      "MAE\t 13.850951171875\n",
      "--------------------------------------------------\n",
      "+ TRAINING \tEpoch: 9 \tLoss: 14.766081\n",
      "+ TRAINING \tEpoch: 10 \tLoss: 17.850971\n",
      "+ TRAINING \tEpoch: 11 \tLoss: 15.916610\n",
      "+ TRAINING \tEpoch: 12 \tLoss: 17.078482\n",
      "--------------------------------------------------\n",
      "+ VALIDATE \tEpoch: 12 \tLoss: 15.961114\n",
      "MAE\t 13.581185546875\n",
      "--------------------------------------------------\n",
      "+ TRAINING \tEpoch: 13 \tLoss: 16.360802\n",
      "+ TRAINING \tEpoch: 14 \tLoss: 18.414993\n",
      "+ TRAINING \tEpoch: 15 \tLoss: 14.318488\n",
      "+ TRAINING \tEpoch: 16 \tLoss: 14.245152\n",
      "--------------------------------------------------\n",
      "+ VALIDATE \tEpoch: 16 \tLoss: 6.610759\n",
      "MAE\t 8.120334014892578\n",
      "--------------------------------------------------\n",
      "+ TRAINING \tEpoch: 17 \tLoss: 14.811205\n",
      "+ TRAINING \tEpoch: 18 \tLoss: 15.290267\n",
      "+ TRAINING \tEpoch: 19 \tLoss: 13.603013\n",
      "+ TRAINING \tEpoch: 20 \tLoss: 15.480713\n",
      "--------------------------------------------------\n",
      "+ VALIDATE \tEpoch: 20 \tLoss: 5.674379\n",
      "MAE\t 7.6270390625\n",
      "--------------------------------------------------\n",
      "SAVING MODEL JUST IN CASE\n",
      "\n",
      "Finished TRAINING of fold 1\n",
      "FULL MODEL SAVED SUCCESSFULLY\n"
     ]
    },
    {
     "data": {
      "image/png": "[encoded data removed]",
      "text/plain": [
       "<Figure size 432x288 with 1 Axes>"
      ]
     },
     "metadata": {
      "needs_background": "light"
     },
     "output_type": "display_data"
    },
    {
     "name": "stdout",
     "output_type": "stream",
     "text": [
      "64 24\n",
      "Total number of parameters in Model is: 1113025\n",
      "ResidualNet3D_Regression(\n",
      "  (conv1): Sequential(\n",
      "    (0): Conv3d(1, 16, kernel_size=(3, 3, 3), stride=(1, 1, 1), padding=(1, 1, 1), bias=False)\n",
      "    (1): BatchNorm3d(16, eps=1e-05, momentum=0.1, affine=True, track_running_stats=True)\n",
      "    (2): ReLU(inplace=True)\n",
      "  )\n",
      "  (layer1): Sequential(\n",
      "    (0): ResBlock(\n",
      "      (left): Sequential(\n",
      "        (0): Conv3d(16, 32, kernel_size=(3, 3, 3), stride=(2, 2, 2), padding=(1, 1, 1), bias=False)\n",
      "        (1): BatchNorm3d(32, eps=1e-05, momentum=0.1, affine=True, track_running_stats=True)\n",
      "        (2): ReLU(inplace=True)\n",
      "        (3): Conv3d(32, 32, kernel_size=(3, 3, 3), stride=(1, 1, 1), padding=(1, 1, 1), bias=False)\n",
      "        (4): BatchNorm3d(32, eps=1e-05, momentum=0.1, affine=True, track_running_stats=True)\n",
      "      )\n",
      "      (shortcut): Sequential(\n",
      "        (0): Conv3d(16, 32, kernel_size=(1, 1, 1), stride=(2, 2, 2), bias=False)\n",
      "        (1): BatchNorm3d(32, eps=1e-05, momentum=0.1, affine=True, track_running_stats=True)\n",
      "      )\n",
      "    )\n",
      "    (1): ResBlock(\n",
      "      (left): Sequential(\n",
      "        (0): Conv3d(32, 32, kernel_size=(3, 3, 3), stride=(1, 1, 1), padding=(1, 1, 1), bias=False)\n",
      "        (1): BatchNorm3d(32, eps=1e-05, momentum=0.1, affine=True, track_running_stats=True)\n",
      "        (2): ReLU(inplace=True)\n",
      "        (3): Conv3d(32, 32, kernel_size=(3, 3, 3), stride=(1, 1, 1), padding=(1, 1, 1), bias=False)\n",
      "        (4): BatchNorm3d(32, eps=1e-05, momentum=0.1, affine=True, track_running_stats=True)\n",
      "      )\n",
      "      (shortcut): Sequential()\n",
      "    )\n",
      "  )\n",
      "  (layer2): Sequential(\n",
      "    (0): ResBlock(\n",
      "      (left): Sequential(\n",
      "        (0): Conv3d(32, 64, kernel_size=(3, 3, 3), stride=(2, 2, 2), padding=(1, 1, 1), bias=False)\n",
      "        (1): BatchNorm3d(64, eps=1e-05, momentum=0.1, affine=True, track_running_stats=True)\n",
      "        (2): ReLU(inplace=True)\n",
      "        (3): Conv3d(64, 64, kernel_size=(3, 3, 3), stride=(1, 1, 1), padding=(1, 1, 1), bias=False)\n",
      "        (4): BatchNorm3d(64, eps=1e-05, momentum=0.1, affine=True, track_running_stats=True)\n",
      "      )\n",
      "      (shortcut): Sequential(\n",
      "        (0): Conv3d(32, 64, kernel_size=(1, 1, 1), stride=(2, 2, 2), bias=False)\n",
      "        (1): BatchNorm3d(64, eps=1e-05, momentum=0.1, affine=True, track_running_stats=True)\n",
      "      )\n",
      "    )\n",
      "  )\n",
      "  (layer3): Sequential(\n",
      "    (0): ResBlock(\n",
      "      (left): Sequential(\n",
      "        (0): Conv3d(64, 96, kernel_size=(3, 3, 3), stride=(2, 2, 2), padding=(1, 1, 1), bias=False)\n",
      "        (1): BatchNorm3d(96, eps=1e-05, momentum=0.1, affine=True, track_running_stats=True)\n",
      "        (2): ReLU(inplace=True)\n",
      "        (3): Conv3d(96, 96, kernel_size=(3, 3, 3), stride=(1, 1, 1), padding=(1, 1, 1), bias=False)\n",
      "        (4): BatchNorm3d(96, eps=1e-05, momentum=0.1, affine=True, track_running_stats=True)\n",
      "      )\n",
      "      (shortcut): Sequential(\n",
      "        (0): Conv3d(64, 96, kernel_size=(1, 1, 1), stride=(2, 2, 2), bias=False)\n",
      "        (1): BatchNorm3d(96, eps=1e-05, momentum=0.1, affine=True, track_running_stats=True)\n",
      "      )\n",
      "    )\n",
      "  )\n",
      "  (layer4): Sequential(\n",
      "    (0): ResBlock(\n",
      "      (left): Sequential(\n",
      "        (0): Conv3d(96, 64, kernel_size=(3, 3, 3), stride=(2, 2, 2), padding=(1, 1, 1), bias=False)\n",
      "        (1): BatchNorm3d(64, eps=1e-05, momentum=0.1, affine=True, track_running_stats=True)\n",
      "        (2): ReLU(inplace=True)\n",
      "        (3): Conv3d(64, 64, kernel_size=(3, 3, 3), stride=(1, 1, 1), padding=(1, 1, 1), bias=False)\n",
      "        (4): BatchNorm3d(64, eps=1e-05, momentum=0.1, affine=True, track_running_stats=True)\n",
      "      )\n",
      "      (shortcut): Sequential(\n",
      "        (0): Conv3d(96, 64, kernel_size=(1, 1, 1), stride=(2, 2, 2), bias=False)\n",
      "        (1): BatchNorm3d(64, eps=1e-05, momentum=0.1, affine=True, track_running_stats=True)\n",
      "      )\n",
      "    )\n",
      "  )\n",
      "  (layer5): Sequential(\n",
      "    (0): ResBlock(\n",
      "      (left): Sequential(\n",
      "        (0): Conv3d(64, 32, kernel_size=(3, 3, 3), stride=(2, 2, 2), padding=(1, 1, 1), bias=False)\n",
      "        (1): BatchNorm3d(32, eps=1e-05, momentum=0.1, affine=True, track_running_stats=True)\n",
      "        (2): ReLU(inplace=True)\n",
      "        (3): Conv3d(32, 32, kernel_size=(3, 3, 3), stride=(1, 1, 1), padding=(1, 1, 1), bias=False)\n",
      "        (4): BatchNorm3d(32, eps=1e-05, momentum=0.1, affine=True, track_running_stats=True)\n",
      "      )\n",
      "      (shortcut): Sequential(\n",
      "        (0): Conv3d(64, 32, kernel_size=(1, 1, 1), stride=(2, 2, 2), bias=False)\n",
      "        (1): BatchNorm3d(32, eps=1e-05, momentum=0.1, affine=True, track_running_stats=True)\n",
      "      )\n",
      "    )\n",
      "    (1): ResBlock(\n",
      "      (left): Sequential(\n",
      "        (0): Conv3d(32, 32, kernel_size=(3, 3, 3), stride=(1, 1, 1), padding=(1, 1, 1), bias=False)\n",
      "        (1): BatchNorm3d(32, eps=1e-05, momentum=0.1, affine=True, track_running_stats=True)\n",
      "        (2): ReLU(inplace=True)\n",
      "        (3): Conv3d(32, 32, kernel_size=(3, 3, 3), stride=(1, 1, 1), padding=(1, 1, 1), bias=False)\n",
      "        (4): BatchNorm3d(32, eps=1e-05, momentum=0.1, affine=True, track_running_stats=True)\n",
      "      )\n",
      "      (shortcut): Sequential()\n",
      "    )\n",
      "  )\n",
      "  (maxpool): MaxPool3d(kernel_size=2, stride=2, padding=0, dilation=1, ceil_mode=False)\n",
      "  (fc): Sequential(\n",
      "    (0): ModelBlock(\n",
      "      (block): Sequential(\n",
      "        (0): Linear(in_features=64, out_features=24, bias=True)\n",
      "        (1): ReLU(inplace=True)\n",
      "        (2): Dropout(p=0.4, inplace=False)\n",
      "      )\n",
      "    )\n",
      "    (1): ModelBlock(\n",
      "      (block): Sequential(\n",
      "        (0): Linear(in_features=24, out_features=1, bias=True)\n",
      "      )\n",
      "    )\n",
      "  )\n",
      ")\n"
     ]
    },
    {
     "name": "stderr",
     "output_type": "stream",
     "text": [
      "\n",
      "Loading Data:   0%|          | 0/250 [00:00<?, ?it/s]\u001b[A\n",
      "Loading Data:  23%|██▎       | 58/250 [00:00<00:00, 570.38it/s]\u001b[A\n",
      "Loading Data:  46%|████▌     | 115/250 [00:00<00:00, 567.52it/s]\u001b[A\n",
      "Loading Data:  69%|██████▉   | 172/250 [00:00<00:00, 567.22it/s]\u001b[A\n",
      "Loading Data: 100%|██████████| 250/250 [00:00<00:00, 564.16it/s]\u001b[A\n"
     ]
    },
    {
     "name": "stdout",
     "output_type": "stream",
     "text": [
      "START TRAINING ON FOLD val...\n",
      "+ TRAINING \tEpoch: 1 \tLoss: 97.875158\n",
      "--------------------------------------------------\n",
      "+ VALIDATE \tEpoch: 1 \tLoss: 59.134525\n",
      "MAE\t 25.2519716796875\n",
      "--------------------------------------------------\n",
      "+ TRAINING \tEpoch: 2 \tLoss: 34.102509\n",
      "+ TRAINING \tEpoch: 3 \tLoss: 16.848292\n",
      "+ TRAINING \tEpoch: 4 \tLoss: 22.214800\n",
      "--------------------------------------------------\n",
      "+ VALIDATE \tEpoch: 4 \tLoss: 6.080730\n",
      "MAE\t 7.908421234130859\n",
      "--------------------------------------------------\n",
      "+ TRAINING \tEpoch: 5 \tLoss: 20.513397\n",
      "+ TRAINING \tEpoch: 6 \tLoss: 21.839649\n",
      "+ TRAINING \tEpoch: 7 \tLoss: 18.381756\n",
      "+ TRAINING \tEpoch: 8 \tLoss: 20.039301\n",
      "--------------------------------------------------\n",
      "+ VALIDATE \tEpoch: 8 \tLoss: 20.802258\n",
      "MAE\t 15.865799011230468\n",
      "--------------------------------------------------\n",
      "+ TRAINING \tEpoch: 9 \tLoss: 18.598876\n",
      "+ TRAINING \tEpoch: 10 \tLoss: 19.423150\n",
      "+ TRAINING \tEpoch: 11 \tLoss: 23.256332\n",
      "+ TRAINING \tEpoch: 12 \tLoss: 20.497593\n",
      "--------------------------------------------------\n",
      "+ VALIDATE \tEpoch: 12 \tLoss: 15.792140\n",
      "MAE\t 13.358392517089843\n",
      "--------------------------------------------------\n",
      "+ TRAINING \tEpoch: 13 \tLoss: 22.006236\n",
      "+ TRAINING \tEpoch: 14 \tLoss: 16.458087\n",
      "+ TRAINING \tEpoch: 15 \tLoss: 13.743239\n",
      "+ TRAINING \tEpoch: 16 \tLoss: 16.410464\n",
      "--------------------------------------------------\n",
      "+ VALIDATE \tEpoch: 16 \tLoss: 4.314462\n",
      "MAE\t 6.539648193359375\n",
      "--------------------------------------------------\n",
      "+ TRAINING \tEpoch: 17 \tLoss: 16.979898\n",
      "+ TRAINING \tEpoch: 18 \tLoss: 16.625424\n",
      "+ TRAINING \tEpoch: 19 \tLoss: 17.600315\n",
      "+ TRAINING \tEpoch: 20 \tLoss: 18.943068\n",
      "--------------------------------------------------\n",
      "+ VALIDATE \tEpoch: 20 \tLoss: 12.660053\n",
      "MAE\t 11.874905517578124\n",
      "--------------------------------------------------\n",
      "SAVING MODEL JUST IN CASE\n",
      "\n",
      "Finished TRAINING of fold 2\n",
      "FULL MODEL SAVED SUCCESSFULLY\n"
     ]
    },
    {
     "data": {
      "image/png": "[encoded data removed]",
      "text/plain": [
       "<Figure size 432x288 with 1 Axes>"
      ]
     },
     "metadata": {
      "needs_background": "light"
     },
     "output_type": "display_data"
    }
   ],
   "source": [
    "# RUNNINC CROSS VALIDATION\n",
    "loss_train_log, loss_val_log, MAE_val_log, MAE_train_log, epoch_val_log = cross_val_reg(dataset_train_reg, dataset_val_reg, augment = 0.2, bSave = True)"
   ]
  },
  {
   "cell_type": "code",
   "execution_count": 24,
   "metadata": {},
   "outputs": [
    {
     "name": "stdout",
     "output_type": "stream",
     "text": [
      "64 28\n",
      "Total number of parameters in Model is: 1113289\n",
      "ResidualNet3D_Regression(\n",
      "  (conv1): Sequential(\n",
      "    (0): Conv3d(1, 16, kernel_size=(3, 3, 3), stride=(1, 1, 1), padding=(1, 1, 1), bias=False)\n",
      "    (1): BatchNorm3d(16, eps=1e-05, momentum=0.1, affine=True, track_running_stats=True)\n",
      "    (2): ReLU(inplace=True)\n",
      "  )\n",
      "  (layer1): Sequential(\n",
      "    (0): ResBlock(\n",
      "      (left): Sequential(\n",
      "        (0): Conv3d(16, 32, kernel_size=(3, 3, 3), stride=(2, 2, 2), padding=(1, 1, 1), bias=False)\n",
      "        (1): BatchNorm3d(32, eps=1e-05, momentum=0.1, affine=True, track_running_stats=True)\n",
      "        (2): ReLU(inplace=True)\n",
      "        (3): Conv3d(32, 32, kernel_size=(3, 3, 3), stride=(1, 1, 1), padding=(1, 1, 1), bias=False)\n",
      "        (4): BatchNorm3d(32, eps=1e-05, momentum=0.1, affine=True, track_running_stats=True)\n",
      "      )\n",
      "      (shortcut): Sequential(\n",
      "        (0): Conv3d(16, 32, kernel_size=(1, 1, 1), stride=(2, 2, 2), bias=False)\n",
      "        (1): BatchNorm3d(32, eps=1e-05, momentum=0.1, affine=True, track_running_stats=True)\n",
      "      )\n",
      "    )\n",
      "    (1): ResBlock(\n",
      "      (left): Sequential(\n",
      "        (0): Conv3d(32, 32, kernel_size=(3, 3, 3), stride=(1, 1, 1), padding=(1, 1, 1), bias=False)\n",
      "        (1): BatchNorm3d(32, eps=1e-05, momentum=0.1, affine=True, track_running_stats=True)\n",
      "        (2): ReLU(inplace=True)\n",
      "        (3): Conv3d(32, 32, kernel_size=(3, 3, 3), stride=(1, 1, 1), padding=(1, 1, 1), bias=False)\n",
      "        (4): BatchNorm3d(32, eps=1e-05, momentum=0.1, affine=True, track_running_stats=True)\n",
      "      )\n",
      "      (shortcut): Sequential()\n",
      "    )\n",
      "  )\n",
      "  (layer2): Sequential(\n",
      "    (0): ResBlock(\n",
      "      (left): Sequential(\n",
      "        (0): Conv3d(32, 64, kernel_size=(3, 3, 3), stride=(2, 2, 2), padding=(1, 1, 1), bias=False)\n",
      "        (1): BatchNorm3d(64, eps=1e-05, momentum=0.1, affine=True, track_running_stats=True)\n",
      "        (2): ReLU(inplace=True)\n",
      "        (3): Conv3d(64, 64, kernel_size=(3, 3, 3), stride=(1, 1, 1), padding=(1, 1, 1), bias=False)\n",
      "        (4): BatchNorm3d(64, eps=1e-05, momentum=0.1, affine=True, track_running_stats=True)\n",
      "      )\n",
      "      (shortcut): Sequential(\n",
      "        (0): Conv3d(32, 64, kernel_size=(1, 1, 1), stride=(2, 2, 2), bias=False)\n",
      "        (1): BatchNorm3d(64, eps=1e-05, momentum=0.1, affine=True, track_running_stats=True)\n",
      "      )\n",
      "    )\n",
      "  )\n",
      "  (layer3): Sequential(\n",
      "    (0): ResBlock(\n",
      "      (left): Sequential(\n",
      "        (0): Conv3d(64, 96, kernel_size=(3, 3, 3), stride=(2, 2, 2), padding=(1, 1, 1), bias=False)\n",
      "        (1): BatchNorm3d(96, eps=1e-05, momentum=0.1, affine=True, track_running_stats=True)\n",
      "        (2): ReLU(inplace=True)\n",
      "        (3): Conv3d(96, 96, kernel_size=(3, 3, 3), stride=(1, 1, 1), padding=(1, 1, 1), bias=False)\n",
      "        (4): BatchNorm3d(96, eps=1e-05, momentum=0.1, affine=True, track_running_stats=True)\n",
      "      )\n",
      "      (shortcut): Sequential(\n",
      "        (0): Conv3d(64, 96, kernel_size=(1, 1, 1), stride=(2, 2, 2), bias=False)\n",
      "        (1): BatchNorm3d(96, eps=1e-05, momentum=0.1, affine=True, track_running_stats=True)\n",
      "      )\n",
      "    )\n",
      "  )\n",
      "  (layer4): Sequential(\n",
      "    (0): ResBlock(\n",
      "      (left): Sequential(\n",
      "        (0): Conv3d(96, 64, kernel_size=(3, 3, 3), stride=(2, 2, 2), padding=(1, 1, 1), bias=False)\n",
      "        (1): BatchNorm3d(64, eps=1e-05, momentum=0.1, affine=True, track_running_stats=True)\n",
      "        (2): ReLU(inplace=True)\n",
      "        (3): Conv3d(64, 64, kernel_size=(3, 3, 3), stride=(1, 1, 1), padding=(1, 1, 1), bias=False)\n",
      "        (4): BatchNorm3d(64, eps=1e-05, momentum=0.1, affine=True, track_running_stats=True)\n",
      "      )\n",
      "      (shortcut): Sequential(\n",
      "        (0): Conv3d(96, 64, kernel_size=(1, 1, 1), stride=(2, 2, 2), bias=False)\n",
      "        (1): BatchNorm3d(64, eps=1e-05, momentum=0.1, affine=True, track_running_stats=True)\n",
      "      )\n",
      "    )\n",
      "  )\n",
      "  (layer5): Sequential(\n",
      "    (0): ResBlock(\n",
      "      (left): Sequential(\n",
      "        (0): Conv3d(64, 32, kernel_size=(3, 3, 3), stride=(2, 2, 2), padding=(1, 1, 1), bias=False)\n",
      "        (1): BatchNorm3d(32, eps=1e-05, momentum=0.1, affine=True, track_running_stats=True)\n",
      "        (2): ReLU(inplace=True)\n",
      "        (3): Conv3d(32, 32, kernel_size=(3, 3, 3), stride=(1, 1, 1), padding=(1, 1, 1), bias=False)\n",
      "        (4): BatchNorm3d(32, eps=1e-05, momentum=0.1, affine=True, track_running_stats=True)\n",
      "      )\n",
      "      (shortcut): Sequential(\n",
      "        (0): Conv3d(64, 32, kernel_size=(1, 1, 1), stride=(2, 2, 2), bias=False)\n",
      "        (1): BatchNorm3d(32, eps=1e-05, momentum=0.1, affine=True, track_running_stats=True)\n",
      "      )\n",
      "    )\n",
      "    (1): ResBlock(\n",
      "      (left): Sequential(\n",
      "        (0): Conv3d(32, 32, kernel_size=(3, 3, 3), stride=(1, 1, 1), padding=(1, 1, 1), bias=False)\n",
      "        (1): BatchNorm3d(32, eps=1e-05, momentum=0.1, affine=True, track_running_stats=True)\n",
      "        (2): ReLU(inplace=True)\n",
      "        (3): Conv3d(32, 32, kernel_size=(3, 3, 3), stride=(1, 1, 1), padding=(1, 1, 1), bias=False)\n",
      "        (4): BatchNorm3d(32, eps=1e-05, momentum=0.1, affine=True, track_running_stats=True)\n",
      "      )\n",
      "      (shortcut): Sequential()\n",
      "    )\n",
      "  )\n",
      "  (maxpool): MaxPool3d(kernel_size=2, stride=2, padding=0, dilation=1, ceil_mode=False)\n",
      "  (fc): Sequential(\n",
      "    (0): ModelBlock(\n",
      "      (block): Sequential(\n",
      "        (0): Linear(in_features=64, out_features=28, bias=True)\n",
      "        (1): ReLU(inplace=True)\n",
      "        (2): Dropout(p=0.2, inplace=False)\n",
      "      )\n",
      "    )\n",
      "    (1): ModelBlock(\n",
      "      (block): Sequential(\n",
      "        (0): Linear(in_features=28, out_features=1, bias=True)\n",
      "      )\n",
      "    )\n",
      "  )\n",
      ")\n",
      "START TRAINING...\n",
      "+ TRAINING \tEpoch: 1 \tLoss: 160.892010\n",
      "MAE\t 45.69244354248047\n",
      "--------------------------------------------------\n",
      "+ VALIDATE \tEpoch: 1 \tLoss: 103.139702\n",
      "MAE\t 32.24689666748047\n",
      "--------------------------------------------------\n",
      "+ TRAINING \tEpoch: 2 \tLoss: 62.405727\n",
      "MAE\t 25.790885940551757\n",
      "+ TRAINING \tEpoch: 3 \tLoss: 26.773292\n",
      "MAE\t 15.947257263183594\n",
      "+ TRAINING \tEpoch: 4 \tLoss: 16.242265\n",
      "MAE\t 12.151562149047852\n",
      "--------------------------------------------------\n",
      "+ VALIDATE \tEpoch: 4 \tLoss: 7.297422\n",
      "MAE\t 7.90176685333252\n",
      "--------------------------------------------------\n",
      "+ TRAINING \tEpoch: 5 \tLoss: 15.276364\n",
      "MAE\t 11.570451461791992\n",
      "+ TRAINING \tEpoch: 6 \tLoss: 14.136419\n",
      "MAE\t 11.582336532592773\n",
      "+ TRAINING \tEpoch: 7 \tLoss: 13.228190\n",
      "MAE\t 10.994181015014648\n",
      "+ TRAINING \tEpoch: 8 \tLoss: 14.059845\n",
      "MAE\t 11.034941757202148\n",
      "--------------------------------------------------\n",
      "+ VALIDATE \tEpoch: 8 \tLoss: 6.235256\n",
      "MAE\t 7.733901062011719\n",
      "--------------------------------------------------\n",
      "+ TRAINING \tEpoch: 9 \tLoss: 10.505856\n",
      "MAE\t 9.571370269775391\n",
      "+ TRAINING \tEpoch: 10 \tLoss: 10.610741\n",
      "MAE\t 10.158920379638673\n",
      "+ TRAINING \tEpoch: 11 \tLoss: 9.754726\n",
      "MAE\t 9.410217941284179\n",
      "+ TRAINING \tEpoch: 12 \tLoss: 10.106769\n",
      "MAE\t 9.728681873321532\n",
      "--------------------------------------------------\n",
      "+ VALIDATE \tEpoch: 12 \tLoss: 10.189752\n",
      "MAE\t 10.143063087463378\n",
      "--------------------------------------------------\n",
      "+ TRAINING \tEpoch: 13 \tLoss: 8.446957\n",
      "MAE\t 8.678664161682129\n",
      "+ TRAINING \tEpoch: 14 \tLoss: 9.530879\n",
      "MAE\t 9.212501235961915\n",
      "+ TRAINING \tEpoch: 15 \tLoss: 9.242308\n",
      "MAE\t 9.289376502990722\n",
      "+ TRAINING \tEpoch: 16 \tLoss: 8.429178\n",
      "MAE\t 8.549530536651611\n",
      "--------------------------------------------------\n",
      "+ VALIDATE \tEpoch: 16 \tLoss: 5.408792\n",
      "MAE\t 6.732782096862793\n",
      "--------------------------------------------------\n",
      "+ TRAINING \tEpoch: 17 \tLoss: 9.609616\n",
      "MAE\t 8.929566101074219\n",
      "+ TRAINING \tEpoch: 18 \tLoss: 10.403552\n",
      "MAE\t 9.645824417114257\n",
      "+ TRAINING \tEpoch: 19 \tLoss: 8.844136\n",
      "MAE\t 9.03344807434082\n",
      "+ TRAINING \tEpoch: 20 \tLoss: 8.808293\n",
      "MAE\t 8.741713485717774\n",
      "--------------------------------------------------\n",
      "+ VALIDATE \tEpoch: 20 \tLoss: 13.507475\n",
      "MAE\t 10.829963836669922\n",
      "--------------------------------------------------\n",
      "+ TRAINING \tEpoch: 21 \tLoss: 6.891993\n",
      "MAE\t 7.966506889343262\n",
      "+ TRAINING \tEpoch: 22 \tLoss: 8.287111\n",
      "MAE\t 8.597472526550293\n",
      "+ TRAINING \tEpoch: 23 \tLoss: 8.408093\n",
      "MAE\t 8.907808616638183\n",
      "+ TRAINING \tEpoch: 24 \tLoss: 8.007840\n",
      "MAE\t 8.650653526306153\n",
      "--------------------------------------------------\n",
      "+ VALIDATE \tEpoch: 24 \tLoss: 8.091370\n",
      "MAE\t 9.114060173034668\n",
      "--------------------------------------------------\n",
      "+ TRAINING \tEpoch: 25 \tLoss: 7.896762\n",
      "MAE\t 8.39250518798828\n",
      "+ TRAINING \tEpoch: 26 \tLoss: 7.006703\n",
      "MAE\t 8.113982673645019\n",
      "+ TRAINING \tEpoch: 27 \tLoss: 8.339433\n",
      "MAE\t 8.825577613830566\n",
      "+ TRAINING \tEpoch: 28 \tLoss: 8.325230\n",
      "MAE\t 8.857021766662598\n"
     ]
    },
    {
     "name": "stdout",
     "output_type": "stream",
     "text": [
      "--------------------------------------------------\n",
      "+ VALIDATE \tEpoch: 28 \tLoss: 4.136278\n",
      "MAE\t 6.376798706054688\n",
      "--------------------------------------------------\n",
      "+ TRAINING \tEpoch: 29 \tLoss: 8.353378\n",
      "MAE\t 8.698294666290284\n",
      "+ TRAINING \tEpoch: 30 \tLoss: 7.131536\n",
      "MAE\t 8.168976112365723\n",
      "\n",
      "Finished TRAINING.\n"
     ]
    },
    {
     "data": {
      "image/png": "[encoded data removed]",
      "text/plain": [
       "<Figure size 432x288 with 1 Axes>"
      ]
     },
     "metadata": {
      "needs_background": "light"
     },
     "output_type": "display_data"
    }
   ],
   "source": [
    "# RUNNING WITH THE ENTIRE DATASET\n",
    "model_reg = ResidualNet3D_Regression(ResBlock, ModelBlock, dp = 0.2).to(device)\n",
    "\n",
    "weights_initialiser = True\n",
    "\n",
    "if weights_initialiser:\n",
    "    model_reg.apply(weights_init)\n",
    "params_net = sum(p.numel() for p in model_reg.parameters() if p.requires_grad)\n",
    "print(\"Total number of parameters in Model is: {}\".format(params_net))\n",
    "print(model_reg)\n",
    "\n",
    "optimizer = torch.optim.Adam(model_reg.parameters(), lr=learning_rate, betas=(0.9, 0.999))\n",
    "scheduler = optim.lr_scheduler.StepLR(optimizer, step_size = 2, gamma = 0.9)\n",
    "\n",
    "loss_train_log = []\n",
    "loss_val_log = []\n",
    "MAE_val_log = []\n",
    "MAE_train_log = []\n",
    "epoch_val_log = []\n",
    "\n",
    "torch.autograd.set_detect_anomaly(True)\n",
    "\n",
    "print('START TRAINING...')\n",
    "for epoch in range(1, num_epochs + 1):\n",
    "    model_reg.train()\n",
    "    tmploss = 0\n",
    "    AE = 0\n",
    "    # Training\n",
    "    for batch_idx, batch_samples in enumerate(dataloader_train_reg):\n",
    "        img, age = batch_samples['img'].to(device), batch_samples['age'].to(device)\n",
    "        optimizer.zero_grad()\n",
    "        prd = model_reg(img)\n",
    "        age = age.view(-1,1).float()\n",
    "        loss = F.mse_loss(prd, age)\n",
    "        \n",
    "        tmploss += loss.detach().item()\n",
    "        AE += torch.sum(torch.abs(age - prd)).item()\n",
    "        \n",
    "        loss.backward()\n",
    "        optimizer.step()\n",
    "\n",
    "    tmploss = tmploss/len(dataloader_train_reg.dataset.samples)\n",
    "    MAE = AE/len(dataloader_train_reg.dataset.samples)\n",
    "    \n",
    "    loss_train_log.append(tmploss)\n",
    "    MAE_train_log.append(MAE)\n",
    "    \n",
    "    print('+ TRAINING \\tEpoch: {} \\tLoss: {:.6f}'.format(epoch, tmploss))\n",
    "    print('MAE\\t {}'.format(MAE))\n",
    "    \n",
    "    # Validation\n",
    "    if epoch == 1 or epoch % val_interval == 0:\n",
    "        model_reg.eval()\n",
    "        loss_val = 0\n",
    "        AE = 0\n",
    "        with torch.no_grad():\n",
    "            for batch_idx, batch_samples in enumerate(dataloader_test_reg):\n",
    "                img, age = batch_samples['img'].to(device), batch_samples['age'].to(device)\n",
    "                prd = model_reg(img)\n",
    "                age = age.view(-1,1).float()\n",
    "                loss_val += F.mse_loss(prd, age)\n",
    "                AE += torch.sum(torch.abs(age - prd)).item()\n",
    "                \n",
    "        MAE = AE/len(dataloader_test_reg.dataset.samples)\n",
    "        loss_val = loss_val/len(dataloader_test_reg.dataset.samples)\n",
    "        \n",
    "        loss_val_log.append(loss_val)\n",
    "        epoch_val_log.append(epoch)\n",
    "        MAE_val_log.append(MAE)\n",
    "        \n",
    "        print('--------------------------------------------------')\n",
    "        print('+ VALIDATE \\tEpoch: {} \\tLoss: {:.6f}'.format(epoch, loss_val))\n",
    "        print('MAE\\t {}'.format(MAE))\n",
    "        print('--------------------------------------------------')\n",
    "    \n",
    "    if epoch % num_save_epochs == 0:\n",
    "        pass\n",
    "        print('SAVING MODEL JUST IN CASE')\n",
    "        torch.save(model_reg.state_dict(), os.path.join(model_dir_reg, 'model_reg.pt'))\n",
    "    \n",
    "    \n",
    "print('\\nFinished TRAINING.')\n",
    "torch.save(model_reg.state_dict(), os.path.join(model_dir_reg, 'model_reg.pt'))\n",
    "print('FULL MODEL SAVED SUCCESSFULLY')\n",
    "\n",
    "plt.plot(range(1, num_epochs + 1), loss_train_log, c='r', label='train')\n",
    "plt.plot(epoch_val_log, loss_val_log, c='b', label='val')\n",
    "plt.legend(loc='upper right')\n",
    "plt.xlabel('epoch')\n",
    "plt.ylabel('loss')\n",
    "plt.show()"
   ]
  },
  {
   "cell_type": "code",
   "execution_count": 37,
   "metadata": {},
   "outputs": [
    {
     "name": "stdout",
     "output_type": "stream",
     "text": [
      "64 28\n",
      "mean absolute error: 6.110010452270508\n",
      "r2 score: 0.8532166730166211\n"
     ]
    },
    {
     "data": {
      "image/png": "[encoded data removed]",
      "text/plain": [
       "<Figure size 432x288 with 1 Axes>"
      ]
     },
     "metadata": {
      "needs_background": "light"
     },
     "output_type": "display_data"
    },
    {
     "name": "stdout",
     "output_type": "stream",
     "text": [
      "mean absolute error: 3.340884937286377\n",
      "r2 score: 0.9479205385404983\n"
     ]
    },
    {
     "data": {
      "image/png": "[encoded data removed]",
      "text/plain": [
       "<Figure size 432x288 with 1 Axes>"
      ]
     },
     "metadata": {
      "needs_background": "light"
     },
     "output_type": "display_data"
    }
   ],
   "source": [
    "model_reg = ResidualNet3D_Regression(ResBlock, ModelBlock)\n",
    "model_reg.load_state_dict(torch.load(os.path.join(model_dir_reg, 'model_reg.pt')))\n",
    "model_reg.to(device)\n",
    "model_reg.eval()\n",
    "\n",
    "def find_y_pred(model_reg, dataloader_test_reg):\n",
    "    y = []\n",
    "    predicted = []\n",
    "    model_reg.eval()\n",
    "    for batch in dataloader_test_reg:\n",
    "        y_batch = batch['age'].to(device)\n",
    "        y_pred = model_reg(batch['img'].to(device))\n",
    "        batch_lst = [yval.item() for yval in list(y_batch.detach())]\n",
    "        pred_lst = [ypred.item() for ypred in list(y_pred.detach())]\n",
    "        for idx in range(len(batch_lst)):\n",
    "            y.append(batch_lst[idx])\n",
    "            predicted.append(pred_lst[idx])\n",
    "    y = np.array(y)\n",
    "    predicted = np.array(predicted)\n",
    "    y = y.flatten()\n",
    "    predicted = predicted.flatten()\n",
    "    return y, predicted\n",
    "\n",
    "\n",
    "# TEST SET\n",
    "y, predicted = find_y_pred(model_reg, dataloader_test_reg)\n",
    "\n",
    "print('mean absolute error: {0}'.format(mean_absolute_error(y,predicted)))\n",
    "print('r2 score: {0}'.format(r2_score(y,predicted)))\n",
    "\n",
    "fig, ax = plt.subplots()\n",
    "ax.scatter(y, predicted, marker='.')\n",
    "ax.plot([y.min(), y.max()], [y.min(), y.max()], 'k--', lw=2, label = 'Test Set')\n",
    "ax.set_xlabel('Real Age')\n",
    "ax.set_ylabel('Predicted Age')\n",
    "plt.legend()\n",
    "plt.show()\n",
    "\n",
    "# TRAINING SET\n",
    "y, predicted = find_y_pred(model_reg, dataloader_train_reg)\n",
    "\n",
    "print('mean absolute error: {0}'.format(mean_absolute_error(y,predicted)))\n",
    "print('r2 score: {0}'.format(r2_score(y,predicted)))\n",
    "\n",
    "fig, ax = plt.subplots()\n",
    "ax.scatter(y, predicted, marker='.')\n",
    "ax.plot([y.min(), y.max()], [y.min(), y.max()], 'k--', lw=2, label = 'Training Set')\n",
    "ax.set_xlabel('Real Age')\n",
    "ax.set_ylabel('Predicted Age')\n",
    "plt.legend()\n",
    "plt.show()\n",
    "\n",
    "# VALIDATION SET (REDUNDANT FOR FINAL TEST)\n",
    "# y, predicted = find_y_pred(model_reg, dataloader_val_reg)\n",
    "\n",
    "# print('mean absolute error: {0}'.format(mean_absolute_error(y,predicted)))\n",
    "# print('r2 score: {0}'.format(r2_score(y,predicted)))\n",
    "\n",
    "# fig, ax = plt.subplots()\n",
    "# ax.scatter(y, predicted, marker='.')\n",
    "# ax.plot([y.min(), y.max()], [y.min(), y.max()], 'k--', lw=2)\n",
    "# ax.set_xlabel('Real Age')\n",
    "# ax.set_ylabel('Predicted Age')\n",
    "# plt.show()"
   ]
  },
  {
   "cell_type": "code",
   "execution_count": 36,
   "metadata": {},
   "outputs": [],
   "source": [
    "torch.cuda.empty_cache()"
   ]
  }
 ],
 "metadata": {
  "kernelspec": {
   "display_name": "Python 3",
   "language": "python",
   "name": "python3"
  },
  "language_info": {
   "codemirror_mode": {
    "name": "ipython",
    "version": 3
   },
   "file_extension": ".py",
   "mimetype": "text/x-python",
   "name": "python",
   "nbconvert_exporter": "python",
   "pygments_lexer": "ipython3",
   "version": "3.6.10"
  }
 },
 "nbformat": 4,
 "nbformat_minor": 1
}
